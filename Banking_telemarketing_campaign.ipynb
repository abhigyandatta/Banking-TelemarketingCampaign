{
 "cells": [
  {
   "cell_type": "code",
   "execution_count": 1,
   "id": "d7ea1c0c",
   "metadata": {},
   "outputs": [],
   "source": [
    "import numpy as np\n",
    "import pandas as pd\n",
    "import matplotlib.pyplot as plt\n",
    "import seaborn as sns\n",
    "plt.style.use('ggplot')\n",
    "\n",
    "pd.set_option('max_columns',200)"
   ]
  },
  {
   "cell_type": "code",
   "execution_count": 2,
   "id": "10244746",
   "metadata": {},
   "outputs": [],
   "source": [
    "%matplotlib inline"
   ]
  },
  {
   "cell_type": "code",
   "execution_count": 3,
   "id": "9ba70893",
   "metadata": {},
   "outputs": [],
   "source": [
    "import warnings\n",
    "warnings.filterwarnings('ignore')"
   ]
  },
  {
   "cell_type": "code",
   "execution_count": 4,
   "id": "c0de6833",
   "metadata": {},
   "outputs": [],
   "source": [
    "full_data=pd.read_csv('portugese_financial_insti.csv',sep=';',na_values='None')"
   ]
  },
  {
   "cell_type": "code",
   "execution_count": 5,
   "id": "a948551a",
   "metadata": {
    "scrolled": true
   },
   "outputs": [
    {
     "data": {
      "text/html": [
       "<div>\n",
       "<style scoped>\n",
       "    .dataframe tbody tr th:only-of-type {\n",
       "        vertical-align: middle;\n",
       "    }\n",
       "\n",
       "    .dataframe tbody tr th {\n",
       "        vertical-align: top;\n",
       "    }\n",
       "\n",
       "    .dataframe thead th {\n",
       "        text-align: right;\n",
       "    }\n",
       "</style>\n",
       "<table border=\"1\" class=\"dataframe\">\n",
       "  <thead>\n",
       "    <tr style=\"text-align: right;\">\n",
       "      <th></th>\n",
       "      <th>age</th>\n",
       "      <th>job</th>\n",
       "      <th>marital</th>\n",
       "      <th>education</th>\n",
       "      <th>default</th>\n",
       "      <th>balance</th>\n",
       "      <th>housing</th>\n",
       "      <th>loan</th>\n",
       "      <th>contact</th>\n",
       "      <th>day</th>\n",
       "      <th>month</th>\n",
       "      <th>duration</th>\n",
       "      <th>campaign</th>\n",
       "      <th>pdays</th>\n",
       "      <th>previous</th>\n",
       "      <th>poutcome</th>\n",
       "      <th>y</th>\n",
       "    </tr>\n",
       "  </thead>\n",
       "  <tbody>\n",
       "    <tr>\n",
       "      <th>0</th>\n",
       "      <td>58</td>\n",
       "      <td>management</td>\n",
       "      <td>married</td>\n",
       "      <td>tertiary</td>\n",
       "      <td>no</td>\n",
       "      <td>2143</td>\n",
       "      <td>yes</td>\n",
       "      <td>no</td>\n",
       "      <td>unknown</td>\n",
       "      <td>5</td>\n",
       "      <td>may</td>\n",
       "      <td>261</td>\n",
       "      <td>1</td>\n",
       "      <td>-1</td>\n",
       "      <td>0</td>\n",
       "      <td>unknown</td>\n",
       "      <td>no</td>\n",
       "    </tr>\n",
       "    <tr>\n",
       "      <th>1</th>\n",
       "      <td>44</td>\n",
       "      <td>technician</td>\n",
       "      <td>single</td>\n",
       "      <td>secondary</td>\n",
       "      <td>no</td>\n",
       "      <td>29</td>\n",
       "      <td>yes</td>\n",
       "      <td>no</td>\n",
       "      <td>unknown</td>\n",
       "      <td>5</td>\n",
       "      <td>may</td>\n",
       "      <td>151</td>\n",
       "      <td>1</td>\n",
       "      <td>-1</td>\n",
       "      <td>0</td>\n",
       "      <td>unknown</td>\n",
       "      <td>no</td>\n",
       "    </tr>\n",
       "  </tbody>\n",
       "</table>\n",
       "</div>"
      ],
      "text/plain": [
       "   age         job  marital  education default  balance housing loan  contact  \\\n",
       "0   58  management  married   tertiary      no     2143     yes   no  unknown   \n",
       "1   44  technician   single  secondary      no       29     yes   no  unknown   \n",
       "\n",
       "   day month  duration  campaign  pdays  previous poutcome   y  \n",
       "0    5   may       261         1     -1         0  unknown  no  \n",
       "1    5   may       151         1     -1         0  unknown  no  "
      ]
     },
     "execution_count": 5,
     "metadata": {},
     "output_type": "execute_result"
    }
   ],
   "source": [
    "full_data.head(2)"
   ]
  },
  {
   "cell_type": "markdown",
   "id": "be377840",
   "metadata": {},
   "source": [
    "# Take subset of data for ease of processing"
   ]
  },
  {
   "cell_type": "code",
   "execution_count": 6,
   "id": "e75949dd",
   "metadata": {},
   "outputs": [],
   "source": [
    "df=full_data    #.sample(frac=0.33,axis=0,ignore_index=True,random_state=17)"
   ]
  },
  {
   "cell_type": "code",
   "execution_count": 7,
   "id": "46fdfd5a",
   "metadata": {},
   "outputs": [
    {
     "name": "stdout",
     "output_type": "stream",
     "text": [
      "<class 'pandas.core.frame.DataFrame'>\n",
      "RangeIndex: 45211 entries, 0 to 45210\n",
      "Data columns (total 17 columns):\n",
      " #   Column     Non-Null Count  Dtype \n",
      "---  ------     --------------  ----- \n",
      " 0   age        45211 non-null  int64 \n",
      " 1   job        45211 non-null  object\n",
      " 2   marital    45211 non-null  object\n",
      " 3   education  45211 non-null  object\n",
      " 4   default    45211 non-null  object\n",
      " 5   balance    45211 non-null  int64 \n",
      " 6   housing    45211 non-null  object\n",
      " 7   loan       45211 non-null  object\n",
      " 8   contact    45211 non-null  object\n",
      " 9   day        45211 non-null  int64 \n",
      " 10  month      45211 non-null  object\n",
      " 11  duration   45211 non-null  int64 \n",
      " 12  campaign   45211 non-null  int64 \n",
      " 13  pdays      45211 non-null  int64 \n",
      " 14  previous   45211 non-null  int64 \n",
      " 15  poutcome   45211 non-null  object\n",
      " 16  y          45211 non-null  object\n",
      "dtypes: int64(7), object(10)\n",
      "memory usage: 5.9+ MB\n"
     ]
    }
   ],
   "source": [
    "df.info()"
   ]
  },
  {
   "cell_type": "markdown",
   "id": "d7ec5975",
   "metadata": {},
   "source": [
    "# Check Null Values"
   ]
  },
  {
   "cell_type": "code",
   "execution_count": 8,
   "id": "85893347",
   "metadata": {},
   "outputs": [
    {
     "data": {
      "text/plain": [
       "age          0\n",
       "job          0\n",
       "marital      0\n",
       "education    0\n",
       "default      0\n",
       "balance      0\n",
       "housing      0\n",
       "loan         0\n",
       "contact      0\n",
       "day          0\n",
       "month        0\n",
       "duration     0\n",
       "campaign     0\n",
       "pdays        0\n",
       "previous     0\n",
       "poutcome     0\n",
       "y            0\n",
       "dtype: int64"
      ]
     },
     "execution_count": 8,
     "metadata": {},
     "output_type": "execute_result"
    }
   ],
   "source": [
    "df.isnull().sum()"
   ]
  },
  {
   "cell_type": "markdown",
   "id": "8dda196c",
   "metadata": {},
   "source": [
    "# Statistical Summary"
   ]
  },
  {
   "cell_type": "code",
   "execution_count": 9,
   "id": "f31495aa",
   "metadata": {},
   "outputs": [
    {
     "data": {
      "text/html": [
       "<div>\n",
       "<style scoped>\n",
       "    .dataframe tbody tr th:only-of-type {\n",
       "        vertical-align: middle;\n",
       "    }\n",
       "\n",
       "    .dataframe tbody tr th {\n",
       "        vertical-align: top;\n",
       "    }\n",
       "\n",
       "    .dataframe thead th {\n",
       "        text-align: right;\n",
       "    }\n",
       "</style>\n",
       "<table border=\"1\" class=\"dataframe\">\n",
       "  <thead>\n",
       "    <tr style=\"text-align: right;\">\n",
       "      <th></th>\n",
       "      <th>count</th>\n",
       "      <th>mean</th>\n",
       "      <th>std</th>\n",
       "      <th>min</th>\n",
       "      <th>25%</th>\n",
       "      <th>50%</th>\n",
       "      <th>75%</th>\n",
       "      <th>max</th>\n",
       "    </tr>\n",
       "  </thead>\n",
       "  <tbody>\n",
       "    <tr>\n",
       "      <th>age</th>\n",
       "      <td>45211.0</td>\n",
       "      <td>40.936210</td>\n",
       "      <td>10.618762</td>\n",
       "      <td>18.0</td>\n",
       "      <td>33.0</td>\n",
       "      <td>39.0</td>\n",
       "      <td>48.0</td>\n",
       "      <td>95.0</td>\n",
       "    </tr>\n",
       "    <tr>\n",
       "      <th>balance</th>\n",
       "      <td>45211.0</td>\n",
       "      <td>1362.272058</td>\n",
       "      <td>3044.765829</td>\n",
       "      <td>-8019.0</td>\n",
       "      <td>72.0</td>\n",
       "      <td>448.0</td>\n",
       "      <td>1428.0</td>\n",
       "      <td>102127.0</td>\n",
       "    </tr>\n",
       "    <tr>\n",
       "      <th>day</th>\n",
       "      <td>45211.0</td>\n",
       "      <td>15.806419</td>\n",
       "      <td>8.322476</td>\n",
       "      <td>1.0</td>\n",
       "      <td>8.0</td>\n",
       "      <td>16.0</td>\n",
       "      <td>21.0</td>\n",
       "      <td>31.0</td>\n",
       "    </tr>\n",
       "    <tr>\n",
       "      <th>duration</th>\n",
       "      <td>45211.0</td>\n",
       "      <td>258.163080</td>\n",
       "      <td>257.527812</td>\n",
       "      <td>0.0</td>\n",
       "      <td>103.0</td>\n",
       "      <td>180.0</td>\n",
       "      <td>319.0</td>\n",
       "      <td>4918.0</td>\n",
       "    </tr>\n",
       "    <tr>\n",
       "      <th>campaign</th>\n",
       "      <td>45211.0</td>\n",
       "      <td>2.763841</td>\n",
       "      <td>3.098021</td>\n",
       "      <td>1.0</td>\n",
       "      <td>1.0</td>\n",
       "      <td>2.0</td>\n",
       "      <td>3.0</td>\n",
       "      <td>63.0</td>\n",
       "    </tr>\n",
       "    <tr>\n",
       "      <th>pdays</th>\n",
       "      <td>45211.0</td>\n",
       "      <td>40.197828</td>\n",
       "      <td>100.128746</td>\n",
       "      <td>-1.0</td>\n",
       "      <td>-1.0</td>\n",
       "      <td>-1.0</td>\n",
       "      <td>-1.0</td>\n",
       "      <td>871.0</td>\n",
       "    </tr>\n",
       "    <tr>\n",
       "      <th>previous</th>\n",
       "      <td>45211.0</td>\n",
       "      <td>0.580323</td>\n",
       "      <td>2.303441</td>\n",
       "      <td>0.0</td>\n",
       "      <td>0.0</td>\n",
       "      <td>0.0</td>\n",
       "      <td>0.0</td>\n",
       "      <td>275.0</td>\n",
       "    </tr>\n",
       "  </tbody>\n",
       "</table>\n",
       "</div>"
      ],
      "text/plain": [
       "            count         mean          std     min    25%    50%     75%  \\\n",
       "age       45211.0    40.936210    10.618762    18.0   33.0   39.0    48.0   \n",
       "balance   45211.0  1362.272058  3044.765829 -8019.0   72.0  448.0  1428.0   \n",
       "day       45211.0    15.806419     8.322476     1.0    8.0   16.0    21.0   \n",
       "duration  45211.0   258.163080   257.527812     0.0  103.0  180.0   319.0   \n",
       "campaign  45211.0     2.763841     3.098021     1.0    1.0    2.0     3.0   \n",
       "pdays     45211.0    40.197828   100.128746    -1.0   -1.0   -1.0    -1.0   \n",
       "previous  45211.0     0.580323     2.303441     0.0    0.0    0.0     0.0   \n",
       "\n",
       "               max  \n",
       "age           95.0  \n",
       "balance   102127.0  \n",
       "day           31.0  \n",
       "duration    4918.0  \n",
       "campaign      63.0  \n",
       "pdays        871.0  \n",
       "previous     275.0  "
      ]
     },
     "execution_count": 9,
     "metadata": {},
     "output_type": "execute_result"
    }
   ],
   "source": [
    "df.describe().T"
   ]
  },
  {
   "cell_type": "markdown",
   "id": "37bbea9b",
   "metadata": {},
   "source": [
    "# Exploratory Data Analysis"
   ]
  },
  {
   "cell_type": "code",
   "execution_count": 10,
   "id": "e58dca00",
   "metadata": {},
   "outputs": [],
   "source": [
    "# Identify the Categorical and Numerical Columns\n",
    "catcols=df.select_dtypes(include=['object']).columns.to_list()\n",
    "numcols=[col for col in df.columns if col not in catcols]"
   ]
  },
  {
   "cell_type": "code",
   "execution_count": 11,
   "id": "53e6cc65",
   "metadata": {},
   "outputs": [
    {
     "name": "stdout",
     "output_type": "stream",
     "text": [
      "Numeric columns: ['age', 'balance', 'day', 'duration', 'campaign', 'pdays', 'previous']\n",
      "\n",
      "Categorical Columns: ['job', 'marital', 'education', 'default', 'housing', 'loan', 'contact', 'month', 'poutcome', 'y']\n"
     ]
    }
   ],
   "source": [
    "print('Numeric columns: {}'.format(numcols))\n",
    "print()\n",
    "print('Categorical Columns: {}'.format(catcols))"
   ]
  },
  {
   "cell_type": "markdown",
   "id": "dc09cc20",
   "metadata": {},
   "source": [
    "# Univariate Analysis"
   ]
  },
  {
   "cell_type": "markdown",
   "id": "eac72857",
   "metadata": {},
   "source": [
    "## Univariate Analysis of Numerical Columns"
   ]
  },
  {
   "cell_type": "markdown",
   "id": "cc3568c3",
   "metadata": {},
   "source": [
    "## Analysis of Age"
   ]
  },
  {
   "cell_type": "code",
   "execution_count": 12,
   "id": "e0d8e2ab",
   "metadata": {},
   "outputs": [
    {
     "data": {
      "image/png": "[encoded data removed]",
      "text/plain": [
       "<Figure size 518.4x216 with 2 Axes>"
      ]
     },
     "metadata": {
      "needs_background": "light"
     },
     "output_type": "display_data"
    }
   ],
   "source": [
    "g=sns.FacetGrid(data=df,col='y',height=3,aspect=1.2)\n",
    "g.map(sns.histplot,'age',bins=20)\n",
    "plt.show()"
   ]
  },
  {
   "cell_type": "code",
   "execution_count": 13,
   "id": "3b9802e0",
   "metadata": {},
   "outputs": [
    {
     "data": {
      "text/plain": [
       "<AxesSubplot:xlabel='age', ylabel='y'>"
      ]
     },
     "execution_count": 13,
     "metadata": {},
     "output_type": "execute_result"
    },
    {
     "data": {
      "image/png": "[encoded data removed]",
      "text/plain": [
       "<Figure size 576x288 with 1 Axes>"
      ]
     },
     "metadata": {
      "needs_background": "light"
     },
     "output_type": "display_data"
    }
   ],
   "source": [
    "# Let's check out the Outlier with the help of Boxplot\n",
    "plt.figure(figsize=(8,4))\n",
    "sns.boxplot(x='age',y='y',data=df)"
   ]
  },
  {
   "cell_type": "markdown",
   "id": "5286b82d",
   "metadata": {},
   "source": [
    "Inference: In case of 'Not-Subscribed', 70 yrs+ is considered outlier, while for 'Subscribed' it is not.  \n",
    "So the average age for 'Subscribed' group is higher."
   ]
  },
  {
   "cell_type": "markdown",
   "id": "7e3467e7",
   "metadata": {},
   "source": [
    "## Analysis of Balance"
   ]
  },
  {
   "cell_type": "code",
   "execution_count": 14,
   "id": "660c5643",
   "metadata": {},
   "outputs": [
    {
     "data": {
      "image/png": "[encoded data removed]",
      "text/plain": [
       "<Figure size 691.2x288 with 2 Axes>"
      ]
     },
     "metadata": {
      "needs_background": "light"
     },
     "output_type": "display_data"
    }
   ],
   "source": [
    "g=sns.FacetGrid(data=df,col='y',height=4,aspect=1.2)\n",
    "g.map(sns.distplot,'balance')\n",
    "plt.show()"
   ]
  },
  {
   "cell_type": "code",
   "execution_count": 15,
   "id": "219ab1be",
   "metadata": {},
   "outputs": [
    {
     "data": {
      "text/plain": [
       "<AxesSubplot:xlabel='balance', ylabel='y'>"
      ]
     },
     "execution_count": 15,
     "metadata": {},
     "output_type": "execute_result"
    },
    {
     "data": {
      "image/png": "[encoded data removed]",
      "text/plain": [
       "<Figure size 720x288 with 1 Axes>"
      ]
     },
     "metadata": {
      "needs_background": "light"
     },
     "output_type": "display_data"
    }
   ],
   "source": [
    "# Let's visualize the Outliers in Balance Column\n",
    "plt.figure(figsize=(10,4))\n",
    "sns.boxplot(x='balance',y='y',data=df)"
   ]
  },
  {
   "cell_type": "markdown",
   "id": "5130d191",
   "metadata": {},
   "source": [
    "Distribution of balance is similar in both the group: 'Subscribed' and 'Not Surscribed'."
   ]
  },
  {
   "cell_type": "markdown",
   "id": "5c052c92",
   "metadata": {},
   "source": [
    "## Analysis of Day"
   ]
  },
  {
   "cell_type": "code",
   "execution_count": 16,
   "id": "636a4bb1",
   "metadata": {},
   "outputs": [
    {
     "data": {
      "text/plain": [
       "<AxesSubplot:xlabel='day', ylabel='count'>"
      ]
     },
     "execution_count": 16,
     "metadata": {},
     "output_type": "execute_result"
    },
    {
     "data": {
      "image/png": "[encoded data removed]",
      "text/plain": [
       "<Figure size 720x360 with 1 Axes>"
      ]
     },
     "metadata": {
      "needs_background": "light"
     },
     "output_type": "display_data"
    }
   ],
   "source": [
    "plt.figure(figsize=(10,5))\n",
    "sns.countplot(x='day',data=df)"
   ]
  },
  {
   "cell_type": "markdown",
   "id": "1fbf16c7",
   "metadata": {},
   "source": [
    "Most of the calls made during 14-21st of the Month, and then some between 5-8th and some during 28-30th of the month.  \n",
    "This can be explained by Initial calling after receiving salary at the beginning (5-8th) of the Month.  \n",
    "Then to follow up after a cooling period of 2 weeks.  \n",
    "And then at the end of the month if people are looking to invest their monthly savings."
   ]
  },
  {
   "cell_type": "markdown",
   "id": "9b0ad5a7",
   "metadata": {},
   "source": [
    "## Analysis of Duration"
   ]
  },
  {
   "cell_type": "code",
   "execution_count": 17,
   "id": "94cfe633",
   "metadata": {},
   "outputs": [
    {
     "data": {
      "text/plain": [
       "<seaborn.axisgrid.FacetGrid at 0x180298cf348>"
      ]
     },
     "execution_count": 17,
     "metadata": {},
     "output_type": "execute_result"
    },
    {
     "data": {
      "image/png": "[encoded data removed]",
      "text/plain": [
       "<Figure size 748.8x288 with 2 Axes>"
      ]
     },
     "metadata": {
      "needs_background": "light"
     },
     "output_type": "display_data"
    }
   ],
   "source": [
    "g=sns.FacetGrid(data=df,col='y',height=4,aspect=1.3,sharey=True,xlim=(-50,3000))\n",
    "g.map(sns.distplot,'duration')"
   ]
  },
  {
   "cell_type": "markdown",
   "id": "a201a552",
   "metadata": {},
   "source": [
    "Converting duration from seconds to minutes will give a better idea"
   ]
  },
  {
   "cell_type": "code",
   "execution_count": 18,
   "id": "cb0e1a69",
   "metadata": {},
   "outputs": [
    {
     "data": {
      "text/plain": [
       "<AxesSubplot:xlabel='duration', ylabel='y'>"
      ]
     },
     "execution_count": 18,
     "metadata": {},
     "output_type": "execute_result"
    },
    {
     "data": {
      "image/png": "[encoded data removed]",
      "text/plain": [
       "<Figure size 720x288 with 1 Axes>"
      ]
     },
     "metadata": {
      "needs_background": "light"
     },
     "output_type": "display_data"
    }
   ],
   "source": [
    "# Outlier visualization of duration\n",
    "plt.figure(figsize=(10,4))\n",
    "sns.boxplot(x='duration',y='y',data=df)"
   ]
  },
  {
   "cell_type": "markdown",
   "id": "a06e000b",
   "metadata": {},
   "source": [
    "So, we see that longer calls during last contact are more likely to get converted,   \n",
    "indicating they have taken time to understand about the product from the calling agents."
   ]
  },
  {
   "cell_type": "markdown",
   "id": "b1af22e6",
   "metadata": {},
   "source": [
    "## Analysis of Campaign"
   ]
  },
  {
   "cell_type": "code",
   "execution_count": 19,
   "id": "0d962349",
   "metadata": {},
   "outputs": [
    {
     "data": {
      "text/plain": [
       "<seaborn.axisgrid.FacetGrid at 0x18029ac5b88>"
      ]
     },
     "execution_count": 19,
     "metadata": {},
     "output_type": "execute_result"
    },
    {
     "data": {
      "image/png": "[encoded data removed]",
      "text/plain": [
       "<Figure size 691.2x288 with 2 Axes>"
      ]
     },
     "metadata": {
      "needs_background": "light"
     },
     "output_type": "display_data"
    }
   ],
   "source": [
    "g=sns.FacetGrid(data=df,col='y',height=4,aspect=1.2,xlim=(-1,30))\n",
    "g.map(sns.distplot,'campaign',color='red')"
   ]
  },
  {
   "cell_type": "markdown",
   "id": "393d8324",
   "metadata": {},
   "source": [
    "80% of those subscribed have been contacted between 0-3 times during this campaign.   \n",
    "So, it makes sense not to contact people beyond at most 5 times during a campaign."
   ]
  },
  {
   "cell_type": "markdown",
   "id": "7961ebf5",
   "metadata": {},
   "source": [
    "## Analysis of pdays"
   ]
  },
  {
   "cell_type": "code",
   "execution_count": 20,
   "id": "52f1efb4",
   "metadata": {},
   "outputs": [
    {
     "data": {
      "text/plain": [
       "<seaborn.axisgrid.FacetGrid at 0x18029cb27c8>"
      ]
     },
     "execution_count": 20,
     "metadata": {},
     "output_type": "execute_result"
    },
    {
     "data": {
      "image/png": "[encoded data removed]",
      "text/plain": [
       "<Figure size 748.8x288 with 2 Axes>"
      ]
     },
     "metadata": {
      "needs_background": "light"
     },
     "output_type": "display_data"
    }
   ],
   "source": [
    "g=sns.FacetGrid(data=df,col='y',height=4,aspect=1.3)\n",
    "g.map(sns.distplot,'pdays')"
   ]
  },
  {
   "cell_type": "markdown",
   "id": "761e7724",
   "metadata": {},
   "source": [
    "For most of the customers, they are being contacted for the first time in this campaign.  \n",
    "However, some people who have been called 100 or 200 days ago during previous campaign have also been converted in this campaign.  \n",
    "It also indicates that this Bank probably runs the campaign after every 100 days."
   ]
  },
  {
   "cell_type": "markdown",
   "id": "594aa667",
   "metadata": {},
   "source": [
    "## Analysis of Previous"
   ]
  },
  {
   "cell_type": "code",
   "execution_count": 21,
   "id": "8390df62",
   "metadata": {},
   "outputs": [
    {
     "data": {
      "text/plain": [
       "<seaborn.axisgrid.FacetGrid at 0x1802ae3f248>"
      ]
     },
     "execution_count": 21,
     "metadata": {},
     "output_type": "execute_result"
    },
    {
     "data": {
      "image/png": "[encoded data removed]",
      "text/plain": [
       "<Figure size 748.8x288 with 2 Axes>"
      ]
     },
     "metadata": {
      "needs_background": "light"
     },
     "output_type": "display_data"
    }
   ],
   "source": [
    "g=sns.FacetGrid(data=df,col='y',height=4,aspect=1.3)\n",
    "g.map(sns.distplot,'previous')"
   ]
  },
  {
   "cell_type": "markdown",
   "id": "a3ef2338",
   "metadata": {},
   "source": [
    "So, most of the customers were contacted for the first time during this campaign.   \n",
    "Hence 0 contacts before this campaign."
   ]
  },
  {
   "cell_type": "markdown",
   "id": "ae9d36c8",
   "metadata": {},
   "source": [
    "## Univariate Analysis of Categorical Columns"
   ]
  },
  {
   "cell_type": "markdown",
   "id": "d8e43bac",
   "metadata": {},
   "source": [
    "## Analysis of Job"
   ]
  },
  {
   "cell_type": "code",
   "execution_count": 22,
   "id": "3a55b67b",
   "metadata": {},
   "outputs": [
    {
     "data": {
      "image/png": "[encoded data removed]",
      "text/plain": [
       "<Figure size 720x288 with 1 Axes>"
      ]
     },
     "metadata": {
      "needs_background": "light"
     },
     "output_type": "display_data"
    }
   ],
   "source": [
    "plt.figure(figsize=(10,4))\n",
    "ax=sns.countplot(x='job',data=df)\n",
    "plt.xticks(rotation='vertical')\n",
    "\n",
    "for p in ax.patches:\n",
    "    percentage = '{:.1f}%'.format(100 * p.get_height()/len(df))\n",
    "    x = p.get_x() + p.get_width()\n",
    "    y = p.get_height()\n",
    "    ax.annotate(percentage, (x, y),ha='center')\n",
    "plt.show()"
   ]
  },
  {
   "cell_type": "markdown",
   "id": "79aa5854",
   "metadata": {},
   "source": [
    "So, most of the customers are from Blue-collar, Management, technician and admin jobs."
   ]
  },
  {
   "cell_type": "markdown",
   "id": "8e334729",
   "metadata": {},
   "source": [
    "## Analysis of Marital"
   ]
  },
  {
   "cell_type": "code",
   "execution_count": 23,
   "id": "ce4b5c4e",
   "metadata": {},
   "outputs": [
    {
     "data": {
      "image/png": "[encoded data removed]",
      "text/plain": [
       "<Figure size 576x288 with 1 Axes>"
      ]
     },
     "metadata": {
      "needs_background": "light"
     },
     "output_type": "display_data"
    }
   ],
   "source": [
    "plt.figure(figsize=(8,4))\n",
    "ax=sns.countplot(x='marital',data=df)\n",
    "for p in ax.patches:\n",
    "    percentage = '{:.1f}%'.format(100 * p.get_height()/len(df))\n",
    "    x = p.get_x() + p.get_width()\n",
    "    y = p.get_height()\n",
    "    ax.annotate(percentage, (x, y),ha='center')\n",
    "plt.show()"
   ]
  },
  {
   "cell_type": "markdown",
   "id": "bd5b9c48",
   "metadata": {},
   "source": [
    "Most of the customers contacted are married."
   ]
  },
  {
   "cell_type": "markdown",
   "id": "89bab4b1",
   "metadata": {},
   "source": [
    "## Analysis of Education"
   ]
  },
  {
   "cell_type": "code",
   "execution_count": 24,
   "id": "35163f9d",
   "metadata": {},
   "outputs": [
    {
     "data": {
      "image/png": "[encoded data removed]",
      "text/plain": [
       "<Figure size 576x288 with 1 Axes>"
      ]
     },
     "metadata": {
      "needs_background": "light"
     },
     "output_type": "display_data"
    }
   ],
   "source": [
    "plt.figure(figsize=(8,4))\n",
    "ax=sns.countplot(x='education',data=df)\n",
    "for p in ax.patches:\n",
    "    percentage = '{:.1f}%'.format(100 * p.get_height()/len(df))\n",
    "    x = p.get_x() + p.get_width()\n",
    "    y = p.get_height()\n",
    "    ax.annotate(percentage, (x, y),ha='center')"
   ]
  },
  {
   "cell_type": "markdown",
   "id": "87c04e63",
   "metadata": {},
   "source": [
    "Majority of the customers have Secondary education and beyond."
   ]
  },
  {
   "cell_type": "markdown",
   "id": "f0c3efdc",
   "metadata": {},
   "source": [
    "## Analysis of Default"
   ]
  },
  {
   "cell_type": "code",
   "execution_count": 25,
   "id": "85626e7a",
   "metadata": {},
   "outputs": [
    {
     "data": {
      "image/png": "[encoded data removed]",
      "text/plain": [
       "<Figure size 576x288 with 1 Axes>"
      ]
     },
     "metadata": {
      "needs_background": "light"
     },
     "output_type": "display_data"
    }
   ],
   "source": [
    "plt.figure(figsize=(8,4))\n",
    "ax=sns.countplot(x='default',data=df)\n",
    "for p in ax.patches:\n",
    "    percentage = '{:.1f}%'.format(100 * p.get_height()/len(df))\n",
    "    x = p.get_x() + p.get_width()\n",
    "    y = p.get_height()\n",
    "    ax.annotate(percentage, (x, y),ha='center')"
   ]
  },
  {
   "cell_type": "markdown",
   "id": "758cb9f1",
   "metadata": {},
   "source": [
    "Majority of customers haven't defaulted . So this column can be removed. Very low variance."
   ]
  },
  {
   "cell_type": "markdown",
   "id": "7af0f116",
   "metadata": {},
   "source": [
    "## Analysis of Housing"
   ]
  },
  {
   "cell_type": "code",
   "execution_count": 26,
   "id": "f1eca885",
   "metadata": {},
   "outputs": [
    {
     "data": {
      "image/png": "[encoded data removed]",
      "text/plain": [
       "<Figure size 576x288 with 1 Axes>"
      ]
     },
     "metadata": {
      "needs_background": "light"
     },
     "output_type": "display_data"
    }
   ],
   "source": [
    "plt.figure(figsize=(8,4))\n",
    "ax=sns.countplot(x='housing',data=df)\n",
    "for p in ax.patches:\n",
    "    percentage = '{:.1f}%'.format(100 * p.get_height()/len(df))\n",
    "    x = p.get_x() + p.get_width()\n",
    "    y = p.get_height()\n",
    "    ax.annotate(percentage, (x, y),ha='center')"
   ]
  },
  {
   "cell_type": "markdown",
   "id": "8771cdfb",
   "metadata": {},
   "source": [
    "Almost equal split of whether the customers have taken home loan or not"
   ]
  },
  {
   "cell_type": "markdown",
   "id": "05703bbb",
   "metadata": {},
   "source": [
    "## Analysis of Contact"
   ]
  },
  {
   "cell_type": "code",
   "execution_count": 27,
   "id": "b43aeb14",
   "metadata": {},
   "outputs": [
    {
     "data": {
      "image/png": "[encoded data removed]",
      "text/plain": [
       "<Figure size 576x288 with 1 Axes>"
      ]
     },
     "metadata": {
      "needs_background": "light"
     },
     "output_type": "display_data"
    }
   ],
   "source": [
    "plt.figure(figsize=(8,4))\n",
    "ax=sns.countplot(x='contact',data=df)\n",
    "for p in ax.patches:\n",
    "    percentage = '{:.1f}%'.format(100 * p.get_height()/len(df))\n",
    "    x = p.get_x() + p.get_width()\n",
    "    y = p.get_height()\n",
    "    ax.annotate(percentage, (x, y),ha='center')"
   ]
  },
  {
   "cell_type": "markdown",
   "id": "88e16492",
   "metadata": {},
   "source": [
    "Majority of customers were contacted via cellphones"
   ]
  },
  {
   "cell_type": "markdown",
   "id": "fb2a3267",
   "metadata": {},
   "source": [
    "## Analysis of Loan"
   ]
  },
  {
   "cell_type": "code",
   "execution_count": 28,
   "id": "7f1cda9e",
   "metadata": {},
   "outputs": [
    {
     "data": {
      "image/png": "[encoded data removed]",
      "text/plain": [
       "<Figure size 576x288 with 1 Axes>"
      ]
     },
     "metadata": {
      "needs_background": "light"
     },
     "output_type": "display_data"
    }
   ],
   "source": [
    "plt.figure(figsize=(8,4))\n",
    "ax=sns.countplot(x='loan',data=df)\n",
    "for p in ax.patches:\n",
    "    percentage = '{:.1f}%'.format(100 * p.get_height()/len(df))\n",
    "    x = p.get_x() + p.get_width()\n",
    "    y = p.get_height()\n",
    "    ax.annotate(percentage, (x, y),ha='center')"
   ]
  },
  {
   "cell_type": "markdown",
   "id": "874aaf44",
   "metadata": {},
   "source": [
    " Majority of customers haven't taken any personal loan"
   ]
  },
  {
   "cell_type": "markdown",
   "id": "e12ce237",
   "metadata": {},
   "source": [
    "# Analysis of Month"
   ]
  },
  {
   "cell_type": "code",
   "execution_count": 29,
   "id": "9b5d1fea",
   "metadata": {},
   "outputs": [
    {
     "data": {
      "image/png": "[encoded data removed]",
      "text/plain": [
       "<Figure size 576x288 with 1 Axes>"
      ]
     },
     "metadata": {
      "needs_background": "light"
     },
     "output_type": "display_data"
    }
   ],
   "source": [
    "plt.figure(figsize=(8,4))\n",
    "months=['jan','feb','mar','apr','may','jun','jul','aug','sep','oct','nov','dec']\n",
    "ax=sns.countplot(x='month',data=df,order=months)\n",
    "for p in ax.patches:\n",
    "    percentage = '{:.1f}%'.format(100 * p.get_height()/len(df))\n",
    "    x = p.get_x() + p.get_width()\n",
    "    y = p.get_height()\n",
    "    ax.annotate(percentage, (x, y),ha='center')"
   ]
  },
  {
   "cell_type": "markdown",
   "id": "5ed362d8",
   "metadata": {},
   "source": [
    "Most of the people were called during May-Aug during the current campaign"
   ]
  },
  {
   "cell_type": "markdown",
   "id": "b823dbb1",
   "metadata": {},
   "source": [
    "## Analysis of poutcome (Previous campaign outcome)"
   ]
  },
  {
   "cell_type": "code",
   "execution_count": 30,
   "id": "5e1ca8c3",
   "metadata": {},
   "outputs": [
    {
     "data": {
      "image/png": "[encoded data removed]",
      "text/plain": [
       "<Figure size 576x288 with 1 Axes>"
      ]
     },
     "metadata": {
      "needs_background": "light"
     },
     "output_type": "display_data"
    }
   ],
   "source": [
    "plt.figure(figsize=(8,4))\n",
    "ax=sns.countplot(x='poutcome',data=df)\n",
    "for p in ax.patches:\n",
    "    percentage = '{:.1f}%'.format(100 * p.get_height()/len(df))\n",
    "    x = p.get_x() + p.get_width()\n",
    "    y = p.get_height()\n",
    "    ax.annotate(percentage, (x, y),ha='center')"
   ]
  },
  {
   "cell_type": "markdown",
   "id": "53679164",
   "metadata": {},
   "source": [
    "Most of the Previous campaign outcomes are unknown, so better data collection is needed."
   ]
  },
  {
   "cell_type": "markdown",
   "id": "04137ada",
   "metadata": {},
   "source": [
    "## Analysis of y (Customer Subscribed to Term deposit or not)"
   ]
  },
  {
   "cell_type": "code",
   "execution_count": 31,
   "id": "bd1db823",
   "metadata": {},
   "outputs": [
    {
     "data": {
      "image/png": "[encoded data removed]",
      "text/plain": [
       "<Figure size 432x288 with 1 Axes>"
      ]
     },
     "metadata": {
      "needs_background": "light"
     },
     "output_type": "display_data"
    }
   ],
   "source": [
    "plt.figure(figsize=(6,4))\n",
    "ax=sns.countplot(x='y',data=df)\n",
    "for p in ax.patches:\n",
    "    percentage = '{:.1f}%'.format(100 * p.get_height()/len(df))\n",
    "    x = p.get_x() + p.get_width()\n",
    "    y = p.get_height()\n",
    "    ax.annotate(percentage, (x, y),ha='center')"
   ]
  },
  {
   "cell_type": "markdown",
   "id": "38ab6400",
   "metadata": {},
   "source": [
    "So, in our current campaign only 12% of clients are subscribing. So we need to improve our run-rate by better targeting.\n",
    "We can decrease our operational resources by improving the prediction of who is going to subscribe, and who is not. "
   ]
  },
  {
   "cell_type": "markdown",
   "id": "04e97777",
   "metadata": {},
   "source": [
    "# Bivariate Analysis"
   ]
  },
  {
   "cell_type": "markdown",
   "id": "325e7f9d",
   "metadata": {},
   "source": [
    "## Relationship of Campaign success with age"
   ]
  },
  {
   "cell_type": "code",
   "execution_count": 32,
   "id": "28634c4e",
   "metadata": {},
   "outputs": [],
   "source": [
    "# Discretize the age Column to age group\n",
    "from sklearn.preprocessing import KBinsDiscretizer\n",
    "disc=KBinsDiscretizer(n_bins=5,strategy='quantile',encode='ordinal')"
   ]
  },
  {
   "cell_type": "code",
   "execution_count": 33,
   "id": "e636001f",
   "metadata": {},
   "outputs": [
    {
     "data": {
      "text/plain": [
       "KBinsDiscretizer(encode='ordinal')"
      ]
     },
     "execution_count": 33,
     "metadata": {},
     "output_type": "execute_result"
    }
   ],
   "source": [
    "disc.fit(df[['age']])"
   ]
  },
  {
   "cell_type": "code",
   "execution_count": 34,
   "id": "211d8eb4",
   "metadata": {},
   "outputs": [],
   "source": [
    "df['age_rank']=disc.transform(df[['age']])"
   ]
  },
  {
   "cell_type": "code",
   "execution_count": 35,
   "id": "2fc6703b",
   "metadata": {},
   "outputs": [
    {
     "data": {
      "text/plain": [
       "array([array([18., 32., 36., 42., 51., 95.])], dtype=object)"
      ]
     },
     "execution_count": 35,
     "metadata": {},
     "output_type": "execute_result"
    }
   ],
   "source": [
    "disc.bin_edges_"
   ]
  },
  {
   "cell_type": "code",
   "execution_count": 36,
   "id": "ee1f13bd",
   "metadata": {},
   "outputs": [
    {
     "data": {
      "image/png": "[encoded data removed]",
      "text/plain": [
       "<Figure size 432x288 with 1 Axes>"
      ]
     },
     "metadata": {
      "needs_background": "light"
     },
     "output_type": "display_data"
    }
   ],
   "source": [
    "ax=sns.countplot(data=df,x='age_rank',hue='y')\n",
    "for p in ax.patches:\n",
    "    percentage = '{:.1f}%'.format(100 * p.get_height()/len(df))\n",
    "    x = p.get_x() + p.get_width()\n",
    "    y = p.get_height()\n",
    "    ax.annotate(percentage, (x, y),ha='center')"
   ]
  },
  {
   "cell_type": "markdown",
   "id": "6c8f4560",
   "metadata": {},
   "source": [
    "So, we see that the conversion is better for youngest and oldest age_groups.  \n",
    "hence we can target these two demographics, rather than the middle age groups"
   ]
  },
  {
   "cell_type": "code",
   "execution_count": 37,
   "id": "4723d2d6",
   "metadata": {},
   "outputs": [],
   "source": [
    "def age_group(age):\n",
    "    if age<31:\n",
    "        return 'young'\n",
    "    elif age<51:\n",
    "        return 'middle'\n",
    "    else:\n",
    "        return 'senior'"
   ]
  },
  {
   "cell_type": "code",
   "execution_count": 38,
   "id": "96d3c70d",
   "metadata": {},
   "outputs": [],
   "source": [
    "df['age_group']=df['age'].map(age_group)"
   ]
  },
  {
   "cell_type": "code",
   "execution_count": 39,
   "id": "c55d3bf9",
   "metadata": {},
   "outputs": [
    {
     "data": {
      "image/png": "[encoded data removed]",
      "text/plain": [
       "<Figure size 432x288 with 1 Axes>"
      ]
     },
     "metadata": {
      "needs_background": "light"
     },
     "output_type": "display_data"
    }
   ],
   "source": [
    "ax=sns.countplot(data=df,x='age_group',hue='y')\n",
    "for p in ax.patches:\n",
    "    percentage = '{:.1f}%'.format(100 * p.get_height()/len(df))\n",
    "    x = p.get_x() + p.get_width()\n",
    "    y = p.get_height()\n",
    "    ax.annotate(percentage, (x, y),ha='center')"
   ]
  },
  {
   "cell_type": "code",
   "execution_count": 40,
   "id": "6e626cff",
   "metadata": {},
   "outputs": [
    {
     "data": {
      "image/png": "[encoded data removed]",
      "text/plain": [
       "<Figure size 1080x1440 with 3 Axes>"
      ]
     },
     "metadata": {},
     "output_type": "display_data"
    }
   ],
   "source": [
    "fig,ax=plt.subplots(1,df['age_group'].nunique(),figsize=(15,20))\n",
    "for i,col in enumerate(df['age_group'].unique()):\n",
    "    ax[i].pie(x=df[df['age_group']==col]['y'].value_counts(),\n",
    "              labels=df[df['age_group']==col]['y'].value_counts().index,autopct='%1.1f%%')\n",
    "    ax[i].set_title(col)"
   ]
  },
  {
   "cell_type": "markdown",
   "id": "a890d9d4",
   "metadata": {},
   "source": [
    "#### Senior(older than 51) and young(younger than 31) age-groups are far more likely to respond than middle age-group people.  \n",
    "#### But they are called the least, this could be the reason why run-rate has been low."
   ]
  },
  {
   "cell_type": "markdown",
   "id": "7226ac6b",
   "metadata": {},
   "source": [
    "## Relationship of Campaign success with Job-type"
   ]
  },
  {
   "cell_type": "code",
   "execution_count": 41,
   "id": "dba27b68",
   "metadata": {},
   "outputs": [
    {
     "data": {
      "image/png": "[encoded data removed]",
      "text/plain": [
       "<Figure size 864x432 with 1 Axes>"
      ]
     },
     "metadata": {
      "needs_background": "light"
     },
     "output_type": "display_data"
    }
   ],
   "source": [
    "plt.figure(figsize=(12,6))\n",
    "sns.countplot(data=df,x='job',hue='y')\n",
    "plt.xticks(rotation='vertical')\n",
    "plt.show()"
   ]
  },
  {
   "cell_type": "code",
   "execution_count": 42,
   "id": "2622cec3",
   "metadata": {},
   "outputs": [
    {
     "data": {
      "text/plain": [
       "array(['management', 'technician', 'entrepreneur', 'blue-collar',\n",
       "       'unknown', 'retired', 'admin.', 'services', 'self-employed',\n",
       "       'unemployed', 'housemaid', 'student'], dtype=object)"
      ]
     },
     "execution_count": 42,
     "metadata": {},
     "output_type": "execute_result"
    }
   ],
   "source": [
    "# We need to reduce the nos of categories in 'job'\n",
    "df['job'].unique()"
   ]
  },
  {
   "cell_type": "code",
   "execution_count": 43,
   "id": "2a452ae4",
   "metadata": {},
   "outputs": [],
   "source": [
    "def job_new(job):\n",
    "    if job in ['self-employed','housemaid','entrepreneur']:\n",
    "        return 'self_employed'\n",
    "    elif job in ['unknown','unemployed','student']:\n",
    "        return 'unemployed'\n",
    "    elif job in ['blue-collar','services']:\n",
    "        return 'blue_collar'\n",
    "    else:\n",
    "        return job"
   ]
  },
  {
   "cell_type": "code",
   "execution_count": 44,
   "id": "f5e85fe4",
   "metadata": {},
   "outputs": [],
   "source": [
    "df['job_type']=df['job'].map(job_new)"
   ]
  },
  {
   "cell_type": "code",
   "execution_count": 45,
   "id": "90d4ee2e",
   "metadata": {},
   "outputs": [
    {
     "data": {
      "image/png": "[encoded data removed]",
      "text/plain": [
       "<Figure size 1080x1440 with 7 Axes>"
      ]
     },
     "metadata": {},
     "output_type": "display_data"
    }
   ],
   "source": [
    "fig,ax=plt.subplots(1,df['job_type'].nunique(),figsize=(15,20))\n",
    "for i,col in enumerate(df['job_type'].unique()):\n",
    "    ax[i].pie(x=df[df['job_type']==col]['y'].value_counts(),\n",
    "              labels=df[df['job_type']==col]['y'].value_counts().index,autopct='%1.1f%%')\n",
    "    ax[i].set_title(col)"
   ]
  },
  {
   "cell_type": "markdown",
   "id": "d09d993b",
   "metadata": {},
   "source": [
    "Retired and unemployed people are more likely to be converted compared to blue-collar and self-employed people.  \n",
    "But lesser nos of retired people have been contacted historically."
   ]
  },
  {
   "cell_type": "markdown",
   "id": "118b56e9",
   "metadata": {},
   "source": [
    "## Relationship of Campaign success with Marital Status"
   ]
  },
  {
   "cell_type": "code",
   "execution_count": 46,
   "id": "0cf396f5",
   "metadata": {},
   "outputs": [
    {
     "data": {
      "image/png": "[encoded data removed]",
      "text/plain": [
       "<Figure size 864x576 with 3 Axes>"
      ]
     },
     "metadata": {},
     "output_type": "display_data"
    }
   ],
   "source": [
    "fig,ax=plt.subplots(1,3,figsize=(12,8))\n",
    "for i,col in enumerate(df['marital'].unique()):\n",
    "    ax[i].pie(x=df[df['marital']==col]['y'].value_counts(),\n",
    "              labels=df[df['marital']==col]['y'].value_counts().index,autopct='%1.1f%%')\n",
    "    ax[i].set_title(col)"
   ]
  },
  {
   "cell_type": "markdown",
   "id": "b9b1e4bb",
   "metadata": {},
   "source": [
    "Single people are more likely to be converted than married and divorced people"
   ]
  },
  {
   "cell_type": "markdown",
   "id": "d32dd257",
   "metadata": {},
   "source": [
    "## Relationship of Campaign success with Education Level"
   ]
  },
  {
   "cell_type": "code",
   "execution_count": 47,
   "id": "16168f7c",
   "metadata": {},
   "outputs": [
    {
     "data": {
      "image/png": "[encoded data removed]",
      "text/plain": [
       "<Figure size 864x720 with 4 Axes>"
      ]
     },
     "metadata": {},
     "output_type": "display_data"
    }
   ],
   "source": [
    "fig,ax=plt.subplots(1,df['education'].nunique(),figsize=(12,10))\n",
    "for i,col in enumerate(df['education'].unique()):\n",
    "    ax[i].pie(x=df[df['education']==col]['y'].value_counts(),\n",
    "              labels=df[df['education']==col]['y'].value_counts().index,autopct='%1.1f%%')\n",
    "    ax[i].set_title(col)"
   ]
  },
  {
   "cell_type": "markdown",
   "id": "c42d1973",
   "metadata": {},
   "source": [
    "People who have completed tertiary education are more likely to be converted than primary or secondary educated people."
   ]
  },
  {
   "cell_type": "markdown",
   "id": "a7666e3f",
   "metadata": {},
   "source": [
    "## Relationship of Campaign success with Yearly Balance"
   ]
  },
  {
   "cell_type": "code",
   "execution_count": 48,
   "id": "e03eb8e0",
   "metadata": {},
   "outputs": [],
   "source": [
    "# Lets create a positive and negative balance column\n",
    "df['balance_pos']=df['balance'].apply(lambda x: 'yes' if x>0 else 'no')"
   ]
  },
  {
   "cell_type": "code",
   "execution_count": 49,
   "id": "61da9fd0",
   "metadata": {},
   "outputs": [
    {
     "data": {
      "image/png": "[encoded data removed]",
      "text/plain": [
       "<Figure size 576x432 with 2 Axes>"
      ]
     },
     "metadata": {},
     "output_type": "display_data"
    }
   ],
   "source": [
    "fig,ax=plt.subplots(1,df['balance_pos'].nunique(),figsize=(8,6))\n",
    "for i,col in enumerate(df['balance_pos'].unique()):\n",
    "    ax[i].pie(x=df[df['balance_pos']==col]['y'].value_counts(),\n",
    "              labels=df[df['balance_pos']==col]['y'].value_counts().index,autopct='%1.1f%%')\n",
    "    ax[i].set_title(col)"
   ]
  },
  {
   "cell_type": "markdown",
   "id": "722da551",
   "metadata": {},
   "source": [
    "People with positive balance are twice as likely to subscribe to term deposit plan than with nil or negative balance."
   ]
  },
  {
   "cell_type": "code",
   "execution_count": 50,
   "id": "19150ac7",
   "metadata": {},
   "outputs": [],
   "source": [
    "# lets discretize the balance column\n",
    "disc_bal=KBinsDiscretizer(n_bins=10,strategy='quantile',encode='ordinal')\n",
    "disc_bal.fit(df[['balance']])\n",
    "df['balance_rank']=disc_bal.transform(df[['balance']])"
   ]
  },
  {
   "cell_type": "code",
   "execution_count": 51,
   "id": "49e9e406",
   "metadata": {},
   "outputs": [
    {
     "data": {
      "text/plain": [
       "array([array([-8.01900e+03,  0.00000e+00,  2.20000e+01,  1.31000e+02,\n",
       "               2.72000e+02,  4.48000e+02,  7.01000e+02,  1.12600e+03,\n",
       "               1.85900e+03,  3.57400e+03,  1.02127e+05])             ],\n",
       "      dtype=object)"
      ]
     },
     "execution_count": 51,
     "metadata": {},
     "output_type": "execute_result"
    }
   ],
   "source": [
    "disc_bal.bin_edges_"
   ]
  },
  {
   "cell_type": "code",
   "execution_count": 52,
   "id": "786363b8",
   "metadata": {},
   "outputs": [
    {
     "data": {
      "image/png": "[encoded data removed]",
      "text/plain": [
       "<Figure size 576x360 with 1 Axes>"
      ]
     },
     "metadata": {
      "needs_background": "light"
     },
     "output_type": "display_data"
    }
   ],
   "source": [
    "plt.figure(figsize=(8,5))\n",
    "ax=sns.countplot(data=df,x='balance_rank',hue='y')\n",
    "for p in ax.patches:\n",
    "    percentage = '{:.1f}%'.format(100 * p.get_height()/len(df))\n",
    "    x = p.get_x() + p.get_width()\n",
    "    y = p.get_height()\n",
    "    ax.annotate(percentage, (x, y),ha='center')"
   ]
  },
  {
   "cell_type": "code",
   "execution_count": 53,
   "id": "c7c860a0",
   "metadata": {},
   "outputs": [],
   "source": [
    "def bal_range(bal):\n",
    "    if bal<25:\n",
    "        return 'low_bal'\n",
    "    elif bal<500:\n",
    "        return 'medium_bal'\n",
    "    elif bal<2000:\n",
    "        return 'high_bal'\n",
    "    else:\n",
    "        return 'very_high_bal'"
   ]
  },
  {
   "cell_type": "code",
   "execution_count": 54,
   "id": "ed6c1047",
   "metadata": {},
   "outputs": [],
   "source": [
    "df['bal_range']=df['balance'].map(bal_range)"
   ]
  },
  {
   "cell_type": "code",
   "execution_count": 55,
   "id": "dfdedc93",
   "metadata": {},
   "outputs": [
    {
     "data": {
      "image/png": "[encoded data removed]",
      "text/plain": [
       "<Figure size 576x432 with 4 Axes>"
      ]
     },
     "metadata": {},
     "output_type": "display_data"
    }
   ],
   "source": [
    "fig,ax=plt.subplots(1,df['bal_range'].nunique(),figsize=(8,6))\n",
    "for i,col in enumerate(df['bal_range'].unique()):\n",
    "    ax[i].pie(x=df[df['bal_range']==col]['y'].value_counts(),\n",
    "              labels=df[df['bal_range']==col]['y'].value_counts().index,autopct='%1.1f%%')\n",
    "    ax[i].set_title(col)"
   ]
  },
  {
   "cell_type": "markdown",
   "id": "4c3bd45f",
   "metadata": {},
   "source": [
    "So, we see that below when balance<700, they are less likely to subscribe.  \n",
    "Hence, it is better to target people with balance 700 and above."
   ]
  },
  {
   "cell_type": "markdown",
   "id": "86cea3df",
   "metadata": {},
   "source": [
    "## Relationship of Campaign success with Housing Loan Status"
   ]
  },
  {
   "cell_type": "code",
   "execution_count": 56,
   "id": "c2fdaf00",
   "metadata": {},
   "outputs": [
    {
     "data": {
      "text/html": [
       "<div>\n",
       "<style scoped>\n",
       "    .dataframe tbody tr th:only-of-type {\n",
       "        vertical-align: middle;\n",
       "    }\n",
       "\n",
       "    .dataframe tbody tr th {\n",
       "        vertical-align: top;\n",
       "    }\n",
       "\n",
       "    .dataframe thead th {\n",
       "        text-align: right;\n",
       "    }\n",
       "</style>\n",
       "<table border=\"1\" class=\"dataframe\">\n",
       "  <thead>\n",
       "    <tr style=\"text-align: right;\">\n",
       "      <th></th>\n",
       "      <th>age</th>\n",
       "      <th>job</th>\n",
       "      <th>marital</th>\n",
       "      <th>education</th>\n",
       "      <th>default</th>\n",
       "      <th>balance</th>\n",
       "      <th>housing</th>\n",
       "      <th>loan</th>\n",
       "      <th>contact</th>\n",
       "      <th>day</th>\n",
       "      <th>month</th>\n",
       "      <th>duration</th>\n",
       "      <th>campaign</th>\n",
       "      <th>pdays</th>\n",
       "      <th>previous</th>\n",
       "      <th>poutcome</th>\n",
       "      <th>y</th>\n",
       "      <th>age_rank</th>\n",
       "      <th>age_group</th>\n",
       "      <th>job_type</th>\n",
       "      <th>balance_pos</th>\n",
       "      <th>balance_rank</th>\n",
       "      <th>bal_range</th>\n",
       "    </tr>\n",
       "  </thead>\n",
       "  <tbody>\n",
       "    <tr>\n",
       "      <th>0</th>\n",
       "      <td>58</td>\n",
       "      <td>management</td>\n",
       "      <td>married</td>\n",
       "      <td>tertiary</td>\n",
       "      <td>no</td>\n",
       "      <td>2143</td>\n",
       "      <td>yes</td>\n",
       "      <td>no</td>\n",
       "      <td>unknown</td>\n",
       "      <td>5</td>\n",
       "      <td>may</td>\n",
       "      <td>261</td>\n",
       "      <td>1</td>\n",
       "      <td>-1</td>\n",
       "      <td>0</td>\n",
       "      <td>unknown</td>\n",
       "      <td>no</td>\n",
       "      <td>4.0</td>\n",
       "      <td>senior</td>\n",
       "      <td>management</td>\n",
       "      <td>yes</td>\n",
       "      <td>8.0</td>\n",
       "      <td>very_high_bal</td>\n",
       "    </tr>\n",
       "  </tbody>\n",
       "</table>\n",
       "</div>"
      ],
      "text/plain": [
       "   age         job  marital education default  balance housing loan  contact  \\\n",
       "0   58  management  married  tertiary      no     2143     yes   no  unknown   \n",
       "\n",
       "   day month  duration  campaign  pdays  previous poutcome   y  age_rank  \\\n",
       "0    5   may       261         1     -1         0  unknown  no       4.0   \n",
       "\n",
       "  age_group    job_type balance_pos  balance_rank      bal_range  \n",
       "0    senior  management         yes           8.0  very_high_bal  "
      ]
     },
     "execution_count": 56,
     "metadata": {},
     "output_type": "execute_result"
    }
   ],
   "source": [
    "df.head(1)"
   ]
  },
  {
   "cell_type": "code",
   "execution_count": 57,
   "id": "123a87f7",
   "metadata": {},
   "outputs": [
    {
     "data": {
      "image/png": "[encoded data removed]",
      "text/plain": [
       "<Figure size 576x432 with 2 Axes>"
      ]
     },
     "metadata": {},
     "output_type": "display_data"
    }
   ],
   "source": [
    "fig,ax=plt.subplots(1,df['housing'].nunique(),figsize=(8,6))\n",
    "for i,col in enumerate(df['housing'].unique()):\n",
    "    ax[i].pie(x=df[df['housing']==col]['y'].value_counts(),\n",
    "              labels=df[df['housing']==col]['y'].value_counts().index,autopct='%1.1f%%')\n",
    "    ax[i].set_title('housing_loan_'+col)"
   ]
  },
  {
   "cell_type": "markdown",
   "id": "fe20a4b4",
   "metadata": {},
   "source": [
    "## Relationship of Campaign success with Personal Loan status"
   ]
  },
  {
   "cell_type": "code",
   "execution_count": 58,
   "id": "ab7c92b0",
   "metadata": {},
   "outputs": [
    {
     "data": {
      "image/png": "[encoded data removed]",
      "text/plain": [
       "<Figure size 576x432 with 2 Axes>"
      ]
     },
     "metadata": {},
     "output_type": "display_data"
    }
   ],
   "source": [
    "fig,ax=plt.subplots(1,df['loan'].nunique(),figsize=(8,6))\n",
    "for i,col in enumerate(df['loan'].unique()):\n",
    "    ax[i].pie(x=df[df['loan']==col]['y'].value_counts(),\n",
    "              labels=df[df['loan']==col]['y'].value_counts().index,autopct='%1.1f%%')\n",
    "    ax[i].set_title('Personal_loan_'+col)"
   ]
  },
  {
   "cell_type": "markdown",
   "id": "f5e4e949",
   "metadata": {},
   "source": [
    "## Relationship of Campaign success with Contact Medium"
   ]
  },
  {
   "cell_type": "code",
   "execution_count": 59,
   "id": "47a01a15",
   "metadata": {},
   "outputs": [
    {
     "data": {
      "image/png": "[encoded data removed]",
      "text/plain": [
       "<Figure size 864x720 with 3 Axes>"
      ]
     },
     "metadata": {},
     "output_type": "display_data"
    }
   ],
   "source": [
    "fig,ax=plt.subplots(1,df['contact'].nunique(),figsize=(12,10))\n",
    "for i,col in enumerate(df['contact'].unique()):\n",
    "    ax[i].pie(x=df[df['contact']==col]['y'].value_counts(),\n",
    "              labels=df[df['contact']==col]['y'].value_counts().index,autopct='%1.1f%%')\n",
    "    ax[i].set_title(col)"
   ]
  },
  {
   "cell_type": "markdown",
   "id": "ecc3e252",
   "metadata": {},
   "source": [
    "## Relationship of Campaign success with Day-of-Month contacted"
   ]
  },
  {
   "cell_type": "code",
   "execution_count": 60,
   "id": "fde7ce4f",
   "metadata": {},
   "outputs": [],
   "source": [
    "# lets create a week of month feature out of day-of-month\n",
    "def week(day):\n",
    "    if day<8:\n",
    "        return 'Week1'\n",
    "    elif day<15:\n",
    "        return 'Week2'\n",
    "    elif day<22:\n",
    "        return 'Week3'\n",
    "    else:\n",
    "        return 'Week4'\n",
    "    \n",
    "df['week']=df['day'].map(week)    "
   ]
  },
  {
   "cell_type": "code",
   "execution_count": 61,
   "id": "a084a9fc",
   "metadata": {},
   "outputs": [
    {
     "data": {
      "image/png": "[encoded data removed]",
      "text/plain": [
       "<Figure size 864x720 with 4 Axes>"
      ]
     },
     "metadata": {},
     "output_type": "display_data"
    }
   ],
   "source": [
    "fig,ax=plt.subplots(1,df['week'].nunique(),figsize=(12,10))\n",
    "for i,col in enumerate(df['week'].unique()):\n",
    "    ax[i].pie(x=df[df['week']==col]['y'].value_counts(),\n",
    "              labels=df[df['week']==col]['y'].value_counts().index,autopct='%1.1f%%')\n",
    "    ax[i].set_title(col)"
   ]
  },
  {
   "cell_type": "markdown",
   "id": "4fa4fe34",
   "metadata": {},
   "source": [
    "The conversion of customers on the basis of time of month converted is more or less uniformly distributed."
   ]
  },
  {
   "cell_type": "markdown",
   "id": "3123d9ac",
   "metadata": {},
   "source": [
    "## Relationship of Campaign success with Month of last call"
   ]
  },
  {
   "cell_type": "code",
   "execution_count": 62,
   "id": "836eebdb",
   "metadata": {},
   "outputs": [
    {
     "data": {
      "image/png": "[encoded data removed]",
      "text/plain": [
       "<Figure size 1296x1080 with 12 Axes>"
      ]
     },
     "metadata": {},
     "output_type": "display_data"
    }
   ],
   "source": [
    "fig,ax=plt.subplots(1,12,figsize=(18,15))\n",
    "for i,col in enumerate(months):\n",
    "    ax[i].pie(x=df[df['month']==col]['y'].value_counts(),\n",
    "              labels=df[df['month']==col]['y'].value_counts().index,autopct='%1.1f%%')\n",
    "    ax[i].set_title(col)"
   ]
  },
  {
   "cell_type": "markdown",
   "id": "ddae19cf",
   "metadata": {},
   "source": [
    "Better to keep month column as is and one-hot encode them"
   ]
  },
  {
   "cell_type": "markdown",
   "id": "cdfe7fdf",
   "metadata": {},
   "source": [
    "## Relationship of Campaign success with Duration of last call"
   ]
  },
  {
   "cell_type": "code",
   "execution_count": 63,
   "id": "2792ce5c",
   "metadata": {},
   "outputs": [],
   "source": [
    "# transform duration into minutes\n",
    "df['duration']=df['duration']/60"
   ]
  },
  {
   "cell_type": "code",
   "execution_count": 64,
   "id": "10db63a2",
   "metadata": {},
   "outputs": [],
   "source": [
    "disc_dur=KBinsDiscretizer(n_bins=5,strategy='quantile',encode='ordinal')\n",
    "disc_dur.fit(df[['duration']])\n",
    "df['duration_rank']=disc_dur.transform(df[['duration']])"
   ]
  },
  {
   "cell_type": "code",
   "execution_count": 65,
   "id": "9f699110",
   "metadata": {},
   "outputs": [
    {
     "data": {
      "text/plain": [
       "array([array([ 0.        ,  1.48333333,  2.45      ,  3.71666667,  6.13333333,\n",
       "              81.96666667])                                                   ],\n",
       "      dtype=object)"
      ]
     },
     "execution_count": 65,
     "metadata": {},
     "output_type": "execute_result"
    }
   ],
   "source": [
    "disc_dur.bin_edges_"
   ]
  },
  {
   "cell_type": "code",
   "execution_count": 66,
   "id": "ce54e483",
   "metadata": {},
   "outputs": [
    {
     "data": {
      "image/png": "[encoded data removed]",
      "text/plain": [
       "<Figure size 432x288 with 1 Axes>"
      ]
     },
     "metadata": {
      "needs_background": "light"
     },
     "output_type": "display_data"
    }
   ],
   "source": [
    "ax=sns.countplot(data=df,x='duration_rank',hue='y')\n",
    "for p in ax.patches:\n",
    "    percentage = '{:.1f}%'.format(100 * p.get_height()/len(df))\n",
    "    x = p.get_x() + p.get_width()\n",
    "    y = p.get_height()\n",
    "    ax.annotate(percentage, (x, y),ha='center')"
   ]
  },
  {
   "cell_type": "code",
   "execution_count": 67,
   "id": "9ba57c8c",
   "metadata": {},
   "outputs": [],
   "source": [
    "def call_time(time):\n",
    "    if time<=1:\n",
    "        return '<1min'\n",
    "    elif time<=3:\n",
    "        return '1-3min'\n",
    "    elif time<=10:\n",
    "        return '3-10min'\n",
    "    else:\n",
    "        return '>10 min'"
   ]
  },
  {
   "cell_type": "code",
   "execution_count": 68,
   "id": "d24332bf",
   "metadata": {},
   "outputs": [],
   "source": [
    "df['call_dur']=df['duration'].map(call_time)"
   ]
  },
  {
   "cell_type": "code",
   "execution_count": 69,
   "id": "87b4a590",
   "metadata": {},
   "outputs": [
    {
     "data": {
      "image/png": "[encoded data removed]",
      "text/plain": [
       "<Figure size 432x288 with 1 Axes>"
      ]
     },
     "metadata": {
      "needs_background": "light"
     },
     "output_type": "display_data"
    }
   ],
   "source": [
    "ax=sns.countplot(data=df,x='call_dur',order=['<1min','1-3min','3-10min','>10 min'])\n",
    "for p in ax.patches:\n",
    "    percentage = '{:.1f}%'.format(100 * p.get_height()/len(df))\n",
    "    x = p.get_x() + p.get_width()\n",
    "    y = p.get_height()\n",
    "    ax.annotate(percentage, (x, y),ha='center')"
   ]
  },
  {
   "cell_type": "code",
   "execution_count": 70,
   "id": "a36a6b5f",
   "metadata": {},
   "outputs": [
    {
     "data": {
      "image/png": "[encoded data removed]",
      "text/plain": [
       "<Figure size 864x720 with 4 Axes>"
      ]
     },
     "metadata": {},
     "output_type": "display_data"
    }
   ],
   "source": [
    "fig,ax=plt.subplots(1,df['call_dur'].nunique(),figsize=(12,10))\n",
    "for i,col in enumerate(df['call_dur'].unique()):\n",
    "    ax[i].pie(x=df[df['call_dur']==col]['y'].value_counts(),\n",
    "              labels=df[df['call_dur']==col]['y'].value_counts().index,autopct='%1.1f%%')\n",
    "    ax[i].set_title(col)"
   ]
  },
  {
   "cell_type": "markdown",
   "id": "bbb0a5e0",
   "metadata": {},
   "source": [
    "So, as the duration of last contact increases beyond 3 mins, conversion increases to 15% and above 10 mins it is almost 50%."
   ]
  },
  {
   "cell_type": "markdown",
   "id": "00d882ec",
   "metadata": {},
   "source": [
    "## Relationship of Campaign success with Nos of contacts during this campaign"
   ]
  },
  {
   "cell_type": "code",
   "execution_count": 71,
   "id": "94c288f0",
   "metadata": {},
   "outputs": [
    {
     "data": {
      "text/plain": [
       "(-1.0, 25.0)"
      ]
     },
     "execution_count": 71,
     "metadata": {},
     "output_type": "execute_result"
    },
    {
     "data": {
      "image/png": "[encoded data removed]",
      "text/plain": [
       "<Figure size 576x288 with 1 Axes>"
      ]
     },
     "metadata": {
      "needs_background": "light"
     },
     "output_type": "display_data"
    }
   ],
   "source": [
    "fig,ax=plt.subplots(figsize=(8,4))\n",
    "sns.distplot(df[df['y']=='yes']['campaign'],color='red',hist=False,ax=ax,label='yes')\n",
    "sns.distplot(df[df['y']=='no']['campaign'],color='blue',hist=False,ax=ax,label='no')\n",
    "ax.legend()\n",
    "ax.set_xlim(-1,25)"
   ]
  },
  {
   "cell_type": "markdown",
   "id": "f547f278",
   "metadata": {},
   "source": [
    "## Relationship of Campaign success with nos of days of last contact"
   ]
  },
  {
   "cell_type": "code",
   "execution_count": 72,
   "id": "5c6434c1",
   "metadata": {},
   "outputs": [
    {
     "data": {
      "text/plain": [
       "count    45211.000000\n",
       "mean        40.197828\n",
       "std        100.128746\n",
       "min         -1.000000\n",
       "25%         -1.000000\n",
       "50%         -1.000000\n",
       "75%         -1.000000\n",
       "max        871.000000\n",
       "Name: pdays, dtype: float64"
      ]
     },
     "execution_count": 72,
     "metadata": {},
     "output_type": "execute_result"
    }
   ],
   "source": [
    "df['pdays'].describe().T"
   ]
  },
  {
   "cell_type": "markdown",
   "id": "6d73d0b8",
   "metadata": {},
   "source": [
    "We can divide into customers who are newly contacted (pdays=-1) and customers who have been previously contacted (!=-1)"
   ]
  },
  {
   "cell_type": "code",
   "execution_count": 73,
   "id": "e88b7bcf",
   "metadata": {},
   "outputs": [],
   "source": [
    "df['new_contact']=df['pdays'].apply(lambda x:'new_cust' if x==-1 else 'old_cust')"
   ]
  },
  {
   "cell_type": "code",
   "execution_count": 74,
   "id": "ab04396a",
   "metadata": {},
   "outputs": [
    {
     "data": {
      "image/png": "[encoded data removed]",
      "text/plain": [
       "<Figure size 576x432 with 2 Axes>"
      ]
     },
     "metadata": {},
     "output_type": "display_data"
    }
   ],
   "source": [
    "fig,ax=plt.subplots(1,df['new_contact'].nunique(),figsize=(8,6))\n",
    "for i,col in enumerate(df['new_contact'].unique()):\n",
    "    ax[i].pie(x=df[df['new_contact']==col]['y'].value_counts(),\n",
    "              labels=df[df['new_contact']==col]['y'].value_counts().index,autopct='%1.1f%%')\n",
    "    ax[i].set_title(col)"
   ]
  },
  {
   "cell_type": "markdown",
   "id": "ca067bcb",
   "metadata": {},
   "source": [
    "So, old customers ie those previously contacted are more likely to subscribe than those contacted for first time."
   ]
  },
  {
   "cell_type": "markdown",
   "id": "c63005e2",
   "metadata": {},
   "source": [
    "## Relationship of Campaign success with Outcome of Previous Campaign"
   ]
  },
  {
   "cell_type": "code",
   "execution_count": 75,
   "id": "f2297362",
   "metadata": {},
   "outputs": [
    {
     "data": {
      "image/png": "[encoded data removed]",
      "text/plain": [
       "<Figure size 864x720 with 4 Axes>"
      ]
     },
     "metadata": {},
     "output_type": "display_data"
    }
   ],
   "source": [
    "fig,ax=plt.subplots(1,df['poutcome'].nunique(),figsize=(12,10))\n",
    "for i,col in enumerate(df['poutcome'].unique()):\n",
    "    ax[i].pie(x=df[df['poutcome']==col]['y'].value_counts(),\n",
    "              labels=df[df['poutcome']==col]['y'].value_counts().index,autopct='%1.1f%%')\n",
    "    ax[i].set_title(col)"
   ]
  },
  {
   "cell_type": "markdown",
   "id": "37b26832",
   "metadata": {},
   "source": [
    "If in previous campaign, they subscribed, it is highly probable that they will subscribe in current campaign as well.  \n",
    "'Other' possibly means that their previous term deposit is under process, and they are also likely to convert.  \n",
    "Also, cause of unknown outcome need to be explored to derive more insights."
   ]
  },
  {
   "cell_type": "markdown",
   "id": "ea4dee54",
   "metadata": {},
   "source": [
    "## Relationship of Campaign success with Nos of contact during Previous Campaigns"
   ]
  },
  {
   "cell_type": "code",
   "execution_count": 76,
   "id": "40ccafe2",
   "metadata": {},
   "outputs": [
    {
     "data": {
      "text/plain": [
       "count    45211.000000\n",
       "mean         0.580323\n",
       "std          2.303441\n",
       "min          0.000000\n",
       "25%          0.000000\n",
       "50%          0.000000\n",
       "75%          0.000000\n",
       "max        275.000000\n",
       "Name: previous, dtype: float64"
      ]
     },
     "execution_count": 76,
     "metadata": {},
     "output_type": "execute_result"
    }
   ],
   "source": [
    "df['previous'].describe().T"
   ]
  },
  {
   "cell_type": "markdown",
   "id": "87baace9",
   "metadata": {},
   "source": [
    "This is similar to the pdays column, and hence need not be treated separately. Can be dropped"
   ]
  },
  {
   "cell_type": "markdown",
   "id": "a4c32704",
   "metadata": {},
   "source": [
    "## More Data Transformations"
   ]
  },
  {
   "cell_type": "markdown",
   "id": "c4c2c77d",
   "metadata": {},
   "source": [
    "Let's Review the current dataset and its columns"
   ]
  },
  {
   "cell_type": "code",
   "execution_count": 77,
   "id": "825a95bc",
   "metadata": {},
   "outputs": [
    {
     "data": {
      "text/html": [
       "<div>\n",
       "<style scoped>\n",
       "    .dataframe tbody tr th:only-of-type {\n",
       "        vertical-align: middle;\n",
       "    }\n",
       "\n",
       "    .dataframe tbody tr th {\n",
       "        vertical-align: top;\n",
       "    }\n",
       "\n",
       "    .dataframe thead th {\n",
       "        text-align: right;\n",
       "    }\n",
       "</style>\n",
       "<table border=\"1\" class=\"dataframe\">\n",
       "  <thead>\n",
       "    <tr style=\"text-align: right;\">\n",
       "      <th></th>\n",
       "      <th>age</th>\n",
       "      <th>job</th>\n",
       "      <th>marital</th>\n",
       "      <th>education</th>\n",
       "      <th>default</th>\n",
       "      <th>balance</th>\n",
       "      <th>housing</th>\n",
       "      <th>loan</th>\n",
       "      <th>contact</th>\n",
       "      <th>day</th>\n",
       "      <th>month</th>\n",
       "      <th>duration</th>\n",
       "      <th>campaign</th>\n",
       "      <th>pdays</th>\n",
       "      <th>previous</th>\n",
       "      <th>poutcome</th>\n",
       "      <th>y</th>\n",
       "      <th>age_rank</th>\n",
       "      <th>age_group</th>\n",
       "      <th>job_type</th>\n",
       "      <th>balance_pos</th>\n",
       "      <th>balance_rank</th>\n",
       "      <th>bal_range</th>\n",
       "      <th>week</th>\n",
       "      <th>duration_rank</th>\n",
       "      <th>call_dur</th>\n",
       "      <th>new_contact</th>\n",
       "    </tr>\n",
       "  </thead>\n",
       "  <tbody>\n",
       "    <tr>\n",
       "      <th>40441</th>\n",
       "      <td>56</td>\n",
       "      <td>blue-collar</td>\n",
       "      <td>married</td>\n",
       "      <td>primary</td>\n",
       "      <td>no</td>\n",
       "      <td>1137</td>\n",
       "      <td>no</td>\n",
       "      <td>no</td>\n",
       "      <td>telephone</td>\n",
       "      <td>2</td>\n",
       "      <td>jul</td>\n",
       "      <td>2.933333</td>\n",
       "      <td>1</td>\n",
       "      <td>-1</td>\n",
       "      <td>0</td>\n",
       "      <td>unknown</td>\n",
       "      <td>yes</td>\n",
       "      <td>4.0</td>\n",
       "      <td>senior</td>\n",
       "      <td>blue_collar</td>\n",
       "      <td>yes</td>\n",
       "      <td>7.0</td>\n",
       "      <td>high_bal</td>\n",
       "      <td>Week1</td>\n",
       "      <td>2.0</td>\n",
       "      <td>1-3min</td>\n",
       "      <td>new_cust</td>\n",
       "    </tr>\n",
       "    <tr>\n",
       "      <th>22961</th>\n",
       "      <td>46</td>\n",
       "      <td>technician</td>\n",
       "      <td>married</td>\n",
       "      <td>secondary</td>\n",
       "      <td>no</td>\n",
       "      <td>1596</td>\n",
       "      <td>yes</td>\n",
       "      <td>no</td>\n",
       "      <td>cellular</td>\n",
       "      <td>26</td>\n",
       "      <td>aug</td>\n",
       "      <td>1.766667</td>\n",
       "      <td>7</td>\n",
       "      <td>-1</td>\n",
       "      <td>0</td>\n",
       "      <td>unknown</td>\n",
       "      <td>no</td>\n",
       "      <td>3.0</td>\n",
       "      <td>middle</td>\n",
       "      <td>technician</td>\n",
       "      <td>yes</td>\n",
       "      <td>7.0</td>\n",
       "      <td>high_bal</td>\n",
       "      <td>Week4</td>\n",
       "      <td>1.0</td>\n",
       "      <td>1-3min</td>\n",
       "      <td>new_cust</td>\n",
       "    </tr>\n",
       "    <tr>\n",
       "      <th>3667</th>\n",
       "      <td>36</td>\n",
       "      <td>blue-collar</td>\n",
       "      <td>married</td>\n",
       "      <td>secondary</td>\n",
       "      <td>no</td>\n",
       "      <td>512</td>\n",
       "      <td>yes</td>\n",
       "      <td>no</td>\n",
       "      <td>unknown</td>\n",
       "      <td>16</td>\n",
       "      <td>may</td>\n",
       "      <td>5.716667</td>\n",
       "      <td>1</td>\n",
       "      <td>-1</td>\n",
       "      <td>0</td>\n",
       "      <td>unknown</td>\n",
       "      <td>no</td>\n",
       "      <td>2.0</td>\n",
       "      <td>middle</td>\n",
       "      <td>blue_collar</td>\n",
       "      <td>yes</td>\n",
       "      <td>5.0</td>\n",
       "      <td>high_bal</td>\n",
       "      <td>Week3</td>\n",
       "      <td>3.0</td>\n",
       "      <td>3-10min</td>\n",
       "      <td>new_cust</td>\n",
       "    </tr>\n",
       "    <tr>\n",
       "      <th>6217</th>\n",
       "      <td>29</td>\n",
       "      <td>admin.</td>\n",
       "      <td>single</td>\n",
       "      <td>tertiary</td>\n",
       "      <td>no</td>\n",
       "      <td>2904</td>\n",
       "      <td>yes</td>\n",
       "      <td>no</td>\n",
       "      <td>unknown</td>\n",
       "      <td>27</td>\n",
       "      <td>may</td>\n",
       "      <td>0.550000</td>\n",
       "      <td>1</td>\n",
       "      <td>-1</td>\n",
       "      <td>0</td>\n",
       "      <td>unknown</td>\n",
       "      <td>no</td>\n",
       "      <td>0.0</td>\n",
       "      <td>young</td>\n",
       "      <td>admin.</td>\n",
       "      <td>yes</td>\n",
       "      <td>8.0</td>\n",
       "      <td>very_high_bal</td>\n",
       "      <td>Week4</td>\n",
       "      <td>0.0</td>\n",
       "      <td>&lt;1min</td>\n",
       "      <td>new_cust</td>\n",
       "    </tr>\n",
       "  </tbody>\n",
       "</table>\n",
       "</div>"
      ],
      "text/plain": [
       "       age          job  marital  education default  balance housing loan  \\\n",
       "40441   56  blue-collar  married    primary      no     1137      no   no   \n",
       "22961   46   technician  married  secondary      no     1596     yes   no   \n",
       "3667    36  blue-collar  married  secondary      no      512     yes   no   \n",
       "6217    29       admin.   single   tertiary      no     2904     yes   no   \n",
       "\n",
       "         contact  day month  duration  campaign  pdays  previous poutcome  \\\n",
       "40441  telephone    2   jul  2.933333         1     -1         0  unknown   \n",
       "22961   cellular   26   aug  1.766667         7     -1         0  unknown   \n",
       "3667     unknown   16   may  5.716667         1     -1         0  unknown   \n",
       "6217     unknown   27   may  0.550000         1     -1         0  unknown   \n",
       "\n",
       "         y  age_rank age_group     job_type balance_pos  balance_rank  \\\n",
       "40441  yes       4.0    senior  blue_collar         yes           7.0   \n",
       "22961   no       3.0    middle   technician         yes           7.0   \n",
       "3667    no       2.0    middle  blue_collar         yes           5.0   \n",
       "6217    no       0.0     young       admin.         yes           8.0   \n",
       "\n",
       "           bal_range   week  duration_rank call_dur new_contact  \n",
       "40441       high_bal  Week1            2.0   1-3min    new_cust  \n",
       "22961       high_bal  Week4            1.0   1-3min    new_cust  \n",
       "3667        high_bal  Week3            3.0  3-10min    new_cust  \n",
       "6217   very_high_bal  Week4            0.0    <1min    new_cust  "
      ]
     },
     "execution_count": 77,
     "metadata": {},
     "output_type": "execute_result"
    }
   ],
   "source": [
    "df.sample(4)"
   ]
  },
  {
   "cell_type": "code",
   "execution_count": 78,
   "id": "14987c8e",
   "metadata": {},
   "outputs": [],
   "source": [
    "# Outlier capping of age column\n",
    "# ohe of marital column\n",
    "# label encoding of education column\n",
    "# Drop the default column (low variance)\n",
    "# Outlier capping of Balance column\n",
    "# Encoding housing and loan as 0 and 1\n",
    "# ohe of contact column \n",
    "# drop the day column\n",
    "# ohe month column\n",
    "# outlier capping duration column\n",
    "# outlier capping campaign column\n",
    "# drop the pdays, and previous columns\n",
    "# label encode the poutcome column\n",
    "# drop the job column\n",
    "# ohe the job_type column"
   ]
  },
  {
   "cell_type": "code",
   "execution_count": 79,
   "id": "403c85ed",
   "metadata": {},
   "outputs": [
    {
     "data": {
      "text/plain": [
       "Index(['age', 'job', 'marital', 'education', 'default', 'balance', 'housing',\n",
       "       'loan', 'contact', 'day', 'month', 'duration', 'campaign', 'pdays',\n",
       "       'previous', 'poutcome', 'y', 'age_rank', 'age_group', 'job_type',\n",
       "       'balance_pos', 'balance_rank', 'bal_range', 'week', 'duration_rank',\n",
       "       'call_dur', 'new_contact'],\n",
       "      dtype='object')"
      ]
     },
     "execution_count": 79,
     "metadata": {},
     "output_type": "execute_result"
    }
   ],
   "source": [
    "df.columns"
   ]
  },
  {
   "cell_type": "markdown",
   "id": "4c0046d1",
   "metadata": {},
   "source": [
    "## Train-Test Split"
   ]
  },
  {
   "cell_type": "code",
   "execution_count": 80,
   "id": "f6998ed2",
   "metadata": {},
   "outputs": [],
   "source": [
    "from sklearn.model_selection import train_test_split"
   ]
  },
  {
   "cell_type": "code",
   "execution_count": 81,
   "id": "0d6fb9b8",
   "metadata": {},
   "outputs": [],
   "source": [
    "feat=['age','job_type','marital','education','balance','housing',\n",
    "     'loan','contact','month','duration','campaign','poutcome',\n",
    "     'age_group','bal_range','week','call_dur','new_contact']"
   ]
  },
  {
   "cell_type": "code",
   "execution_count": 82,
   "id": "1cca1d98",
   "metadata": {},
   "outputs": [],
   "source": [
    "X=df[feat]\n",
    "y=df['y'].apply(lambda x: 1 if x=='yes' else 0)"
   ]
  },
  {
   "cell_type": "code",
   "execution_count": 83,
   "id": "a6f5b297",
   "metadata": {},
   "outputs": [
    {
     "data": {
      "text/plain": [
       "0.11698480458295547"
      ]
     },
     "execution_count": 83,
     "metadata": {},
     "output_type": "execute_result"
    }
   ],
   "source": [
    "np.mean(y)"
   ]
  },
  {
   "cell_type": "code",
   "execution_count": 84,
   "id": "9a377a7a",
   "metadata": {},
   "outputs": [],
   "source": [
    "X_train, X_test, y_train, y_test = train_test_split(X, y, test_size=0.25, random_state=42)"
   ]
  },
  {
   "cell_type": "code",
   "execution_count": 85,
   "id": "81d79f16",
   "metadata": {},
   "outputs": [],
   "source": [
    "from sklearn.linear_model import LogisticRegression\n",
    "from sklearn.ensemble import RandomForestClassifier\n",
    "from xgboost import XGBClassifier"
   ]
  },
  {
   "cell_type": "code",
   "execution_count": 86,
   "id": "ef200c61",
   "metadata": {},
   "outputs": [
    {
     "data": {
      "text/html": [
       "<div>\n",
       "<style scoped>\n",
       "    .dataframe tbody tr th:only-of-type {\n",
       "        vertical-align: middle;\n",
       "    }\n",
       "\n",
       "    .dataframe tbody tr th {\n",
       "        vertical-align: top;\n",
       "    }\n",
       "\n",
       "    .dataframe thead th {\n",
       "        text-align: right;\n",
       "    }\n",
       "</style>\n",
       "<table border=\"1\" class=\"dataframe\">\n",
       "  <thead>\n",
       "    <tr style=\"text-align: right;\">\n",
       "      <th></th>\n",
       "      <th>age</th>\n",
       "      <th>job_type</th>\n",
       "      <th>marital</th>\n",
       "      <th>education</th>\n",
       "      <th>balance</th>\n",
       "      <th>housing</th>\n",
       "      <th>loan</th>\n",
       "      <th>contact</th>\n",
       "      <th>month</th>\n",
       "      <th>duration</th>\n",
       "      <th>campaign</th>\n",
       "      <th>poutcome</th>\n",
       "      <th>age_group</th>\n",
       "      <th>bal_range</th>\n",
       "      <th>week</th>\n",
       "      <th>call_dur</th>\n",
       "      <th>new_contact</th>\n",
       "    </tr>\n",
       "  </thead>\n",
       "  <tbody>\n",
       "    <tr>\n",
       "      <th>13423</th>\n",
       "      <td>51</td>\n",
       "      <td>self_employed</td>\n",
       "      <td>married</td>\n",
       "      <td>secondary</td>\n",
       "      <td>-201</td>\n",
       "      <td>no</td>\n",
       "      <td>yes</td>\n",
       "      <td>cellular</td>\n",
       "      <td>jul</td>\n",
       "      <td>2.550000</td>\n",
       "      <td>2</td>\n",
       "      <td>unknown</td>\n",
       "      <td>senior</td>\n",
       "      <td>low_bal</td>\n",
       "      <td>Week2</td>\n",
       "      <td>1-3min</td>\n",
       "      <td>new_cust</td>\n",
       "    </tr>\n",
       "    <tr>\n",
       "      <th>877</th>\n",
       "      <td>45</td>\n",
       "      <td>blue_collar</td>\n",
       "      <td>married</td>\n",
       "      <td>secondary</td>\n",
       "      <td>154</td>\n",
       "      <td>yes</td>\n",
       "      <td>no</td>\n",
       "      <td>unknown</td>\n",
       "      <td>may</td>\n",
       "      <td>18.966667</td>\n",
       "      <td>1</td>\n",
       "      <td>unknown</td>\n",
       "      <td>middle</td>\n",
       "      <td>medium_bal</td>\n",
       "      <td>Week1</td>\n",
       "      <td>&gt;10 min</td>\n",
       "      <td>new_cust</td>\n",
       "    </tr>\n",
       "    <tr>\n",
       "      <th>22265</th>\n",
       "      <td>33</td>\n",
       "      <td>technician</td>\n",
       "      <td>single</td>\n",
       "      <td>tertiary</td>\n",
       "      <td>316</td>\n",
       "      <td>no</td>\n",
       "      <td>no</td>\n",
       "      <td>cellular</td>\n",
       "      <td>aug</td>\n",
       "      <td>2.100000</td>\n",
       "      <td>3</td>\n",
       "      <td>unknown</td>\n",
       "      <td>middle</td>\n",
       "      <td>medium_bal</td>\n",
       "      <td>Week3</td>\n",
       "      <td>1-3min</td>\n",
       "      <td>new_cust</td>\n",
       "    </tr>\n",
       "  </tbody>\n",
       "</table>\n",
       "</div>"
      ],
      "text/plain": [
       "       age       job_type  marital  education  balance housing loan   contact  \\\n",
       "13423   51  self_employed  married  secondary     -201      no  yes  cellular   \n",
       "877     45    blue_collar  married  secondary      154     yes   no   unknown   \n",
       "22265   33     technician   single   tertiary      316      no   no  cellular   \n",
       "\n",
       "      month   duration  campaign poutcome age_group   bal_range   week  \\\n",
       "13423   jul   2.550000         2  unknown    senior     low_bal  Week2   \n",
       "877     may  18.966667         1  unknown    middle  medium_bal  Week1   \n",
       "22265   aug   2.100000         3  unknown    middle  medium_bal  Week3   \n",
       "\n",
       "      call_dur new_contact  \n",
       "13423   1-3min    new_cust  \n",
       "877    >10 min    new_cust  \n",
       "22265   1-3min    new_cust  "
      ]
     },
     "execution_count": 86,
     "metadata": {},
     "output_type": "execute_result"
    }
   ],
   "source": [
    "X.sample(3)"
   ]
  },
  {
   "cell_type": "code",
   "execution_count": 87,
   "id": "3ec0e605",
   "metadata": {},
   "outputs": [
    {
     "name": "stdout",
     "output_type": "stream",
     "text": [
      "(33908, 17)\n",
      "(11303, 17)\n",
      "(33908,)\n",
      "(11303,)\n"
     ]
    }
   ],
   "source": [
    "print(X_train.shape)\n",
    "print(X_test.shape)\n",
    "print(y_train.shape)\n",
    "print(y_test.shape)"
   ]
  },
  {
   "cell_type": "markdown",
   "id": "57146bf6",
   "metadata": {},
   "source": [
    "## Outlier Capping"
   ]
  },
  {
   "cell_type": "markdown",
   "id": "9996b3a9",
   "metadata": {},
   "source": [
    "Let's create a function to cap Outliers.  \n",
    "We will be using IQR method, ie upper whisker=Q3+1.5 IQR and lower whisker=Q1-1.5 IQR.  \n",
    "Values beyond the whiskers will be re-assigned the whisker values."
   ]
  },
  {
   "cell_type": "code",
   "execution_count": 88,
   "id": "b4c0d615",
   "metadata": {},
   "outputs": [],
   "source": [
    "def outlier_capping(df,col):\n",
    "\n",
    "        q1=df[col].quantile(0.25)\n",
    "        q3=df[col].quantile(0.75)\n",
    "        iqr=q3-q1\n",
    "        \n",
    "        upper_whisker=q3 + 1.5 * iqr\n",
    "        lower_whisker=q1- 1.5 * iqr\n",
    "        \n",
    "        df[col]=np.where(df[col]>upper_whisker,upper_whisker, #true action\n",
    "                        np.where(df[col]<lower_whisker,lower_whisker,df[col]))"
   ]
  },
  {
   "cell_type": "code",
   "execution_count": 89,
   "id": "0e135f90",
   "metadata": {},
   "outputs": [
    {
     "data": {
      "text/plain": [
       "Text(0.5, 1.0, 'Before Outlier Capping')"
      ]
     },
     "execution_count": 89,
     "metadata": {},
     "output_type": "execute_result"
    },
    {
     "data": {
      "image/png": "[encoded data removed]",
      "text/plain": [
       "<Figure size 432x288 with 1 Axes>"
      ]
     },
     "metadata": {
      "needs_background": "light"
     },
     "output_type": "display_data"
    }
   ],
   "source": [
    "sns.boxplot(X_train['balance'])\n",
    "plt.title('Before Outlier Capping')"
   ]
  },
  {
   "cell_type": "code",
   "execution_count": 90,
   "id": "07424467",
   "metadata": {},
   "outputs": [],
   "source": [
    "outlier_cols=['age','balance','duration','campaign']\n",
    "for col in outlier_cols:\n",
    "    outlier_capping(X_train,col)"
   ]
  },
  {
   "cell_type": "code",
   "execution_count": 91,
   "id": "64a234ca",
   "metadata": {},
   "outputs": [
    {
     "data": {
      "text/plain": [
       "Text(0.5, 1.0, 'After Outlier Capping')"
      ]
     },
     "execution_count": 91,
     "metadata": {},
     "output_type": "execute_result"
    },
    {
     "data": {
      "image/png": "[encoded data removed]",
      "text/plain": [
       "<Figure size 432x288 with 1 Axes>"
      ]
     },
     "metadata": {
      "needs_background": "light"
     },
     "output_type": "display_data"
    }
   ],
   "source": [
    "sns.boxplot(X_train['balance'])\n",
    "plt.title('After Outlier Capping')"
   ]
  },
  {
   "cell_type": "code",
   "execution_count": 92,
   "id": "b8b63299",
   "metadata": {},
   "outputs": [
    {
     "data": {
      "text/plain": [
       "Index(['age', 'job_type', 'marital', 'education', 'balance', 'housing', 'loan',\n",
       "       'contact', 'month', 'duration', 'campaign', 'poutcome', 'age_group',\n",
       "       'bal_range', 'week', 'call_dur', 'new_contact'],\n",
       "      dtype='object')"
      ]
     },
     "execution_count": 92,
     "metadata": {},
     "output_type": "execute_result"
    }
   ],
   "source": [
    "X_train.columns"
   ]
  },
  {
   "cell_type": "code",
   "execution_count": 93,
   "id": "42466895",
   "metadata": {},
   "outputs": [],
   "source": [
    "X_train=pd.get_dummies(X_train,columns=['job_type', 'marital', 'education','housing', 'loan',\n",
    "                                       'contact', 'month','poutcome','age_group',\n",
    "                                       'bal_range', 'week', 'call_dur', 'new_contact'],drop_first=False)"
   ]
  },
  {
   "cell_type": "code",
   "execution_count": 94,
   "id": "10a82d90",
   "metadata": {
    "scrolled": true
   },
   "outputs": [
    {
     "data": {
      "text/html": [
       "<div>\n",
       "<style scoped>\n",
       "    .dataframe tbody tr th:only-of-type {\n",
       "        vertical-align: middle;\n",
       "    }\n",
       "\n",
       "    .dataframe tbody tr th {\n",
       "        vertical-align: top;\n",
       "    }\n",
       "\n",
       "    .dataframe thead th {\n",
       "        text-align: right;\n",
       "    }\n",
       "</style>\n",
       "<table border=\"1\" class=\"dataframe\">\n",
       "  <thead>\n",
       "    <tr style=\"text-align: right;\">\n",
       "      <th></th>\n",
       "      <th>age</th>\n",
       "      <th>balance</th>\n",
       "      <th>duration</th>\n",
       "      <th>campaign</th>\n",
       "      <th>job_type_admin.</th>\n",
       "      <th>job_type_blue_collar</th>\n",
       "      <th>job_type_management</th>\n",
       "      <th>job_type_retired</th>\n",
       "      <th>job_type_self_employed</th>\n",
       "      <th>job_type_technician</th>\n",
       "      <th>job_type_unemployed</th>\n",
       "      <th>marital_divorced</th>\n",
       "      <th>marital_married</th>\n",
       "      <th>marital_single</th>\n",
       "      <th>education_primary</th>\n",
       "      <th>education_secondary</th>\n",
       "      <th>education_tertiary</th>\n",
       "      <th>education_unknown</th>\n",
       "      <th>housing_no</th>\n",
       "      <th>housing_yes</th>\n",
       "      <th>loan_no</th>\n",
       "      <th>loan_yes</th>\n",
       "      <th>contact_cellular</th>\n",
       "      <th>contact_telephone</th>\n",
       "      <th>contact_unknown</th>\n",
       "      <th>month_apr</th>\n",
       "      <th>month_aug</th>\n",
       "      <th>month_dec</th>\n",
       "      <th>month_feb</th>\n",
       "      <th>month_jan</th>\n",
       "      <th>month_jul</th>\n",
       "      <th>month_jun</th>\n",
       "      <th>month_mar</th>\n",
       "      <th>month_may</th>\n",
       "      <th>month_nov</th>\n",
       "      <th>month_oct</th>\n",
       "      <th>month_sep</th>\n",
       "      <th>poutcome_failure</th>\n",
       "      <th>poutcome_other</th>\n",
       "      <th>poutcome_success</th>\n",
       "      <th>poutcome_unknown</th>\n",
       "      <th>age_group_middle</th>\n",
       "      <th>age_group_senior</th>\n",
       "      <th>age_group_young</th>\n",
       "      <th>bal_range_high_bal</th>\n",
       "      <th>bal_range_low_bal</th>\n",
       "      <th>bal_range_medium_bal</th>\n",
       "      <th>bal_range_very_high_bal</th>\n",
       "      <th>week_Week1</th>\n",
       "      <th>week_Week2</th>\n",
       "      <th>week_Week3</th>\n",
       "      <th>week_Week4</th>\n",
       "      <th>call_dur_1-3min</th>\n",
       "      <th>call_dur_3-10min</th>\n",
       "      <th>call_dur_&lt;1min</th>\n",
       "      <th>call_dur_&gt;10 min</th>\n",
       "      <th>new_contact_new_cust</th>\n",
       "      <th>new_contact_old_cust</th>\n",
       "    </tr>\n",
       "  </thead>\n",
       "  <tbody>\n",
       "    <tr>\n",
       "      <th>29242</th>\n",
       "      <td>29.0</td>\n",
       "      <td>642.0</td>\n",
       "      <td>2.6</td>\n",
       "      <td>3.0</td>\n",
       "      <td>0</td>\n",
       "      <td>0</td>\n",
       "      <td>1</td>\n",
       "      <td>0</td>\n",
       "      <td>0</td>\n",
       "      <td>0</td>\n",
       "      <td>0</td>\n",
       "      <td>0</td>\n",
       "      <td>0</td>\n",
       "      <td>1</td>\n",
       "      <td>0</td>\n",
       "      <td>0</td>\n",
       "      <td>1</td>\n",
       "      <td>0</td>\n",
       "      <td>1</td>\n",
       "      <td>0</td>\n",
       "      <td>1</td>\n",
       "      <td>0</td>\n",
       "      <td>1</td>\n",
       "      <td>0</td>\n",
       "      <td>0</td>\n",
       "      <td>0</td>\n",
       "      <td>0</td>\n",
       "      <td>0</td>\n",
       "      <td>1</td>\n",
       "      <td>0</td>\n",
       "      <td>0</td>\n",
       "      <td>0</td>\n",
       "      <td>0</td>\n",
       "      <td>0</td>\n",
       "      <td>0</td>\n",
       "      <td>0</td>\n",
       "      <td>0</td>\n",
       "      <td>0</td>\n",
       "      <td>0</td>\n",
       "      <td>0</td>\n",
       "      <td>1</td>\n",
       "      <td>0</td>\n",
       "      <td>0</td>\n",
       "      <td>1</td>\n",
       "      <td>1</td>\n",
       "      <td>0</td>\n",
       "      <td>0</td>\n",
       "      <td>0</td>\n",
       "      <td>1</td>\n",
       "      <td>0</td>\n",
       "      <td>0</td>\n",
       "      <td>0</td>\n",
       "      <td>1</td>\n",
       "      <td>0</td>\n",
       "      <td>0</td>\n",
       "      <td>0</td>\n",
       "      <td>1</td>\n",
       "      <td>0</td>\n",
       "    </tr>\n",
       "    <tr>\n",
       "      <th>7573</th>\n",
       "      <td>41.0</td>\n",
       "      <td>3465.0</td>\n",
       "      <td>1.6</td>\n",
       "      <td>2.0</td>\n",
       "      <td>0</td>\n",
       "      <td>0</td>\n",
       "      <td>0</td>\n",
       "      <td>0</td>\n",
       "      <td>1</td>\n",
       "      <td>0</td>\n",
       "      <td>0</td>\n",
       "      <td>0</td>\n",
       "      <td>0</td>\n",
       "      <td>1</td>\n",
       "      <td>0</td>\n",
       "      <td>0</td>\n",
       "      <td>1</td>\n",
       "      <td>0</td>\n",
       "      <td>0</td>\n",
       "      <td>1</td>\n",
       "      <td>1</td>\n",
       "      <td>0</td>\n",
       "      <td>0</td>\n",
       "      <td>0</td>\n",
       "      <td>1</td>\n",
       "      <td>0</td>\n",
       "      <td>0</td>\n",
       "      <td>0</td>\n",
       "      <td>0</td>\n",
       "      <td>0</td>\n",
       "      <td>0</td>\n",
       "      <td>0</td>\n",
       "      <td>0</td>\n",
       "      <td>1</td>\n",
       "      <td>0</td>\n",
       "      <td>0</td>\n",
       "      <td>0</td>\n",
       "      <td>0</td>\n",
       "      <td>0</td>\n",
       "      <td>0</td>\n",
       "      <td>1</td>\n",
       "      <td>1</td>\n",
       "      <td>0</td>\n",
       "      <td>0</td>\n",
       "      <td>0</td>\n",
       "      <td>0</td>\n",
       "      <td>0</td>\n",
       "      <td>1</td>\n",
       "      <td>0</td>\n",
       "      <td>0</td>\n",
       "      <td>0</td>\n",
       "      <td>1</td>\n",
       "      <td>1</td>\n",
       "      <td>0</td>\n",
       "      <td>0</td>\n",
       "      <td>0</td>\n",
       "      <td>1</td>\n",
       "      <td>0</td>\n",
       "    </tr>\n",
       "  </tbody>\n",
       "</table>\n",
       "</div>"
      ],
      "text/plain": [
       "        age  balance  duration  campaign  job_type_admin.  \\\n",
       "29242  29.0    642.0       2.6       3.0                0   \n",
       "7573   41.0   3465.0       1.6       2.0                0   \n",
       "\n",
       "       job_type_blue_collar  job_type_management  job_type_retired  \\\n",
       "29242                     0                    1                 0   \n",
       "7573                      0                    0                 0   \n",
       "\n",
       "       job_type_self_employed  job_type_technician  job_type_unemployed  \\\n",
       "29242                       0                    0                    0   \n",
       "7573                        1                    0                    0   \n",
       "\n",
       "       marital_divorced  marital_married  marital_single  education_primary  \\\n",
       "29242                 0                0               1                  0   \n",
       "7573                  0                0               1                  0   \n",
       "\n",
       "       education_secondary  education_tertiary  education_unknown  housing_no  \\\n",
       "29242                    0                   1                  0           1   \n",
       "7573                     0                   1                  0           0   \n",
       "\n",
       "       housing_yes  loan_no  loan_yes  contact_cellular  contact_telephone  \\\n",
       "29242            0        1         0                 1                  0   \n",
       "7573             1        1         0                 0                  0   \n",
       "\n",
       "       contact_unknown  month_apr  month_aug  month_dec  month_feb  month_jan  \\\n",
       "29242                0          0          0          0          1          0   \n",
       "7573                 1          0          0          0          0          0   \n",
       "\n",
       "       month_jul  month_jun  month_mar  month_may  month_nov  month_oct  \\\n",
       "29242          0          0          0          0          0          0   \n",
       "7573           0          0          0          1          0          0   \n",
       "\n",
       "       month_sep  poutcome_failure  poutcome_other  poutcome_success  \\\n",
       "29242          0                 0               0                 0   \n",
       "7573           0                 0               0                 0   \n",
       "\n",
       "       poutcome_unknown  age_group_middle  age_group_senior  age_group_young  \\\n",
       "29242                 1                 0                 0                1   \n",
       "7573                  1                 1                 0                0   \n",
       "\n",
       "       bal_range_high_bal  bal_range_low_bal  bal_range_medium_bal  \\\n",
       "29242                   1                  0                     0   \n",
       "7573                    0                  0                     0   \n",
       "\n",
       "       bal_range_very_high_bal  week_Week1  week_Week2  week_Week3  \\\n",
       "29242                        0           1           0           0   \n",
       "7573                         1           0           0           0   \n",
       "\n",
       "       week_Week4  call_dur_1-3min  call_dur_3-10min  call_dur_<1min  \\\n",
       "29242           0                1                 0               0   \n",
       "7573            1                1                 0               0   \n",
       "\n",
       "       call_dur_>10 min  new_contact_new_cust  new_contact_old_cust  \n",
       "29242                 0                     1                     0  \n",
       "7573                  0                     1                     0  "
      ]
     },
     "execution_count": 94,
     "metadata": {},
     "output_type": "execute_result"
    }
   ],
   "source": [
    "X_train.sample(2)"
   ]
  },
  {
   "cell_type": "code",
   "execution_count": 95,
   "id": "b1dcca19",
   "metadata": {},
   "outputs": [
    {
     "data": {
      "text/plain": [
       "(33908, 58)"
      ]
     },
     "execution_count": 95,
     "metadata": {},
     "output_type": "execute_result"
    }
   ],
   "source": [
    "X_train.shape"
   ]
  },
  {
   "cell_type": "code",
   "execution_count": 96,
   "id": "6a867bac",
   "metadata": {},
   "outputs": [],
   "source": [
    "X_train.drop(columns=['job_type_unemployed','marital_divorced','education_unknown','housing_no','loan_no',\n",
    "                     'contact_unknown','month_dec','poutcome_unknown','age_group_middle','bal_range_high_bal',\n",
    "                     'week_Week1','call_dur_1-3min','new_contact_new_cust'],inplace=True)"
   ]
  },
  {
   "cell_type": "code",
   "execution_count": 97,
   "id": "01d36d76",
   "metadata": {},
   "outputs": [
    {
     "data": {
      "text/plain": [
       "(33908, 45)"
      ]
     },
     "execution_count": 97,
     "metadata": {},
     "output_type": "execute_result"
    }
   ],
   "source": [
    "X_train.shape"
   ]
  },
  {
   "cell_type": "markdown",
   "id": "7bb81309",
   "metadata": {},
   "source": [
    "## Random Forest model"
   ]
  },
  {
   "cell_type": "markdown",
   "id": "aca309e7",
   "metadata": {},
   "source": [
    "Lets fit a random forest model and use it to get some preliminary idea and feature selection."
   ]
  },
  {
   "cell_type": "code",
   "execution_count": 98,
   "id": "7fc4e887",
   "metadata": {},
   "outputs": [],
   "source": [
    "rf=RandomForestClassifier(n_jobs=-1,oob_score=True)"
   ]
  },
  {
   "cell_type": "code",
   "execution_count": 99,
   "id": "1809e032",
   "metadata": {},
   "outputs": [
    {
     "data": {
      "text/plain": [
       "RandomForestClassifier(n_jobs=-1, oob_score=True)"
      ]
     },
     "execution_count": 99,
     "metadata": {},
     "output_type": "execute_result"
    }
   ],
   "source": [
    "rf.fit(X_train,y_train)"
   ]
  },
  {
   "cell_type": "code",
   "execution_count": 100,
   "id": "a41785ce",
   "metadata": {},
   "outputs": [
    {
     "data": {
      "text/plain": [
       "0.9010852896071724"
      ]
     },
     "execution_count": 100,
     "metadata": {},
     "output_type": "execute_result"
    }
   ],
   "source": [
    "rf.oob_score_"
   ]
  },
  {
   "cell_type": "code",
   "execution_count": 101,
   "id": "eefdf6f3",
   "metadata": {},
   "outputs": [
    {
     "data": {
      "text/plain": [
       "array([0.10213313, 0.09488175, 0.17051633, 0.04283993, 0.01062347,\n",
       "       0.01234297, 0.01205882, 0.00521553, 0.00887455, 0.0125595 ,\n",
       "       0.0147741 , 0.01223608, 0.00881296, 0.0148427 , 0.01382237,\n",
       "       0.02383912, 0.01110351, 0.01598623, 0.00567482, 0.01386972,\n",
       "       0.01131935, 0.00894725, 0.0053183 , 0.01049276, 0.01310771,\n",
       "       0.0135672 , 0.01148378, 0.00868377, 0.01297497, 0.01009724,\n",
       "       0.01010097, 0.00686346, 0.05937439, 0.00996873, 0.01006688,\n",
       "       0.00800233, 0.01397255, 0.01177188, 0.01672653, 0.01790571,\n",
       "       0.01748045, 0.01599384, 0.00540467, 0.06373308, 0.0196346 ])"
      ]
     },
     "execution_count": 101,
     "metadata": {},
     "output_type": "execute_result"
    }
   ],
   "source": [
    "rf.feature_importances_"
   ]
  },
  {
   "cell_type": "code",
   "execution_count": 102,
   "id": "fcfe9f8e",
   "metadata": {},
   "outputs": [
    {
     "data": {
      "text/plain": [
       "array(['age', 'balance', 'duration', 'campaign', 'job_type_admin.',\n",
       "       'job_type_blue_collar', 'job_type_management', 'job_type_retired',\n",
       "       'job_type_self_employed', 'job_type_technician', 'marital_married',\n",
       "       'marital_single', 'education_primary', 'education_secondary',\n",
       "       'education_tertiary', 'housing_yes', 'loan_yes',\n",
       "       'contact_cellular', 'contact_telephone', 'month_apr', 'month_aug',\n",
       "       'month_feb', 'month_jan', 'month_jul', 'month_jun', 'month_mar',\n",
       "       'month_may', 'month_nov', 'month_oct', 'month_sep',\n",
       "       'poutcome_failure', 'poutcome_other', 'poutcome_success',\n",
       "       'age_group_senior', 'age_group_young', 'bal_range_low_bal',\n",
       "       'bal_range_medium_bal', 'bal_range_very_high_bal', 'week_Week2',\n",
       "       'week_Week3', 'week_Week4', 'call_dur_3-10min', 'call_dur_<1min',\n",
       "       'call_dur_>10 min', 'new_contact_old_cust'], dtype=object)"
      ]
     },
     "execution_count": 102,
     "metadata": {},
     "output_type": "execute_result"
    }
   ],
   "source": [
    "rf.feature_names_in_"
   ]
  },
  {
   "cell_type": "code",
   "execution_count": 103,
   "id": "76801fa4",
   "metadata": {},
   "outputs": [],
   "source": [
    "feat_imp=pd.DataFrame(data=rf.feature_importances_,index=rf.feature_names_in_,columns=['importance'])"
   ]
  },
  {
   "cell_type": "code",
   "execution_count": 104,
   "id": "04ada7d0",
   "metadata": {},
   "outputs": [
    {
     "data": {
      "text/plain": [
       "<matplotlib.legend.Legend at 0x1802cb874c8>"
      ]
     },
     "execution_count": 104,
     "metadata": {},
     "output_type": "execute_result"
    },
    {
     "data": {
      "image/png": "[encoded data removed]",
      "text/plain": [
       "<Figure size 576x1440 with 1 Axes>"
      ]
     },
     "metadata": {
      "needs_background": "light"
     },
     "output_type": "display_data"
    }
   ],
   "source": [
    "feat_imp.sort_values('importance').plot(kind='barh',title='Feature Importance',figsize=(8,20)).legend(loc='right')"
   ]
  },
  {
   "cell_type": "code",
   "execution_count": 105,
   "id": "315a0241",
   "metadata": {},
   "outputs": [],
   "source": [
    "feat_zip=feat_imp[feat_imp['importance']>0.015].index"
   ]
  },
  {
   "cell_type": "code",
   "execution_count": 106,
   "id": "7101f814",
   "metadata": {},
   "outputs": [],
   "source": [
    "feat_zip=feat_zip.to_list()"
   ]
  },
  {
   "cell_type": "code",
   "execution_count": 107,
   "id": "93a90fa8",
   "metadata": {},
   "outputs": [
    {
     "name": "stdout",
     "output_type": "stream",
     "text": [
      "['age', 'balance', 'duration', 'campaign', 'housing_yes', 'contact_cellular', 'poutcome_success', 'week_Week2', 'week_Week3', 'week_Week4', 'call_dur_3-10min', 'call_dur_>10 min', 'new_contact_old_cust']\n"
     ]
    }
   ],
   "source": [
    "print(feat_zip)"
   ]
  },
  {
   "cell_type": "markdown",
   "id": "fda962f6",
   "metadata": {},
   "source": [
    "## Transformed Train and Test sets"
   ]
  },
  {
   "cell_type": "code",
   "execution_count": 108,
   "id": "7ae61013",
   "metadata": {},
   "outputs": [],
   "source": [
    "# Train Dataset\n",
    "X_train=X_train[feat_zip]"
   ]
  },
  {
   "cell_type": "code",
   "execution_count": 109,
   "id": "5ed46da8",
   "metadata": {},
   "outputs": [
    {
     "name": "stdout",
     "output_type": "stream",
     "text": [
      "(33908, 13)\n"
     ]
    }
   ],
   "source": [
    "print(X_train.shape)"
   ]
  },
  {
   "cell_type": "code",
   "execution_count": 110,
   "id": "95e0d453",
   "metadata": {},
   "outputs": [],
   "source": [
    "# Preprocess the Test Dataset\n",
    "outlier_cols=['age','balance','duration','campaign']\n",
    "for col in outlier_cols:\n",
    "    outlier_capping(X_test,col)\n",
    "\n",
    "# One Hot Encoding the Categorical Variables    \n",
    "X_test=pd.get_dummies(X_test,columns=['job_type', 'marital', 'education','housing', 'loan',\n",
    "                                       'contact', 'month','poutcome','age_group',\n",
    "                                       'bal_range', 'week', 'call_dur', 'new_contact'],drop_first=False)\n",
    "\n",
    "X_test=X_test[feat_zip]\n"
   ]
  },
  {
   "cell_type": "code",
   "execution_count": 111,
   "id": "97473447",
   "metadata": {},
   "outputs": [
    {
     "name": "stdout",
     "output_type": "stream",
     "text": [
      "(11303, 13)\n"
     ]
    }
   ],
   "source": [
    "print(X_test.shape)"
   ]
  },
  {
   "cell_type": "code",
   "execution_count": 112,
   "id": "7475c691",
   "metadata": {},
   "outputs": [
    {
     "data": {
      "text/html": [
       "<div>\n",
       "<style scoped>\n",
       "    .dataframe tbody tr th:only-of-type {\n",
       "        vertical-align: middle;\n",
       "    }\n",
       "\n",
       "    .dataframe tbody tr th {\n",
       "        vertical-align: top;\n",
       "    }\n",
       "\n",
       "    .dataframe thead th {\n",
       "        text-align: right;\n",
       "    }\n",
       "</style>\n",
       "<table border=\"1\" class=\"dataframe\">\n",
       "  <thead>\n",
       "    <tr style=\"text-align: right;\">\n",
       "      <th></th>\n",
       "      <th>age</th>\n",
       "      <th>balance</th>\n",
       "      <th>duration</th>\n",
       "      <th>campaign</th>\n",
       "      <th>housing_yes</th>\n",
       "      <th>contact_cellular</th>\n",
       "      <th>poutcome_success</th>\n",
       "      <th>week_Week2</th>\n",
       "      <th>week_Week3</th>\n",
       "      <th>week_Week4</th>\n",
       "      <th>call_dur_3-10min</th>\n",
       "      <th>call_dur_&gt;10 min</th>\n",
       "      <th>new_contact_old_cust</th>\n",
       "    </tr>\n",
       "  </thead>\n",
       "  <tbody>\n",
       "    <tr>\n",
       "      <th>41626</th>\n",
       "      <td>52.0</td>\n",
       "      <td>118.0</td>\n",
       "      <td>1.750000</td>\n",
       "      <td>1.0</td>\n",
       "      <td>0</td>\n",
       "      <td>1</td>\n",
       "      <td>0</td>\n",
       "      <td>0</td>\n",
       "      <td>0</td>\n",
       "      <td>1</td>\n",
       "      <td>0</td>\n",
       "      <td>0</td>\n",
       "      <td>0</td>\n",
       "    </tr>\n",
       "    <tr>\n",
       "      <th>31347</th>\n",
       "      <td>28.0</td>\n",
       "      <td>459.0</td>\n",
       "      <td>1.383333</td>\n",
       "      <td>6.0</td>\n",
       "      <td>0</td>\n",
       "      <td>1</td>\n",
       "      <td>0</td>\n",
       "      <td>0</td>\n",
       "      <td>1</td>\n",
       "      <td>0</td>\n",
       "      <td>0</td>\n",
       "      <td>0</td>\n",
       "      <td>0</td>\n",
       "    </tr>\n",
       "  </tbody>\n",
       "</table>\n",
       "</div>"
      ],
      "text/plain": [
       "        age  balance  duration  campaign  housing_yes  contact_cellular  \\\n",
       "41626  52.0    118.0  1.750000       1.0            0                 1   \n",
       "31347  28.0    459.0  1.383333       6.0            0                 1   \n",
       "\n",
       "       poutcome_success  week_Week2  week_Week3  week_Week4  call_dur_3-10min  \\\n",
       "41626                 0           0           0           1                 0   \n",
       "31347                 0           0           1           0                 0   \n",
       "\n",
       "       call_dur_>10 min  new_contact_old_cust  \n",
       "41626                 0                     0  \n",
       "31347                 0                     0  "
      ]
     },
     "execution_count": 112,
     "metadata": {},
     "output_type": "execute_result"
    }
   ],
   "source": [
    "X_train.head(2)"
   ]
  },
  {
   "cell_type": "markdown",
   "id": "39ecc4b4",
   "metadata": {},
   "source": [
    "# Model Building and Evaluation"
   ]
  },
  {
   "cell_type": "markdown",
   "id": "6833b2f9",
   "metadata": {},
   "source": [
    "Since, this is a imbalance dataset with 8:1 imbalance, accuracy is not a good metric to evaluate performance.  \n",
    "Balanced Accuracy is a better metric.  \n",
    "Balanced accuracy=(TPR+TNR)/2 where TPR and TNR are true positive and true negative rates.  \n",
    "It gives a measure of how well the model is capturing both the classes and unlike accuracy is not skewed by the majority class."
   ]
  },
  {
   "cell_type": "code",
   "execution_count": 113,
   "id": "e016e1ba",
   "metadata": {},
   "outputs": [],
   "source": [
    "from sklearn.metrics import accuracy_score,balanced_accuracy_score,classification_report"
   ]
  },
  {
   "cell_type": "code",
   "execution_count": 114,
   "id": "45fe099e",
   "metadata": {},
   "outputs": [],
   "source": [
    "from sklearn.linear_model import LogisticRegression\n",
    "from sklearn.ensemble import RandomForestClassifier,AdaBoostClassifier\n",
    "from imblearn.under_sampling import RandomUnderSampler\n",
    "from imblearn.ensemble import BalancedRandomForestClassifier,BalancedBaggingClassifier,RUSBoostClassifier"
   ]
  },
  {
   "cell_type": "code",
   "execution_count": 115,
   "id": "5bac8292",
   "metadata": {},
   "outputs": [],
   "source": [
    "def accuracy_BalancedAccuracy(model,X_train,X_test,y_train,y_test):\n",
    "    print(model)\n",
    "    model.fit(X_train,y_train)\n",
    "    \n",
    "    y_pred=model.predict(X_test)\n",
    "    \n",
    "    accuracy=accuracy_score(y_test,y_pred)\n",
    "    bal_accuracy=balanced_accuracy_score(y_test,y_pred)\n",
    "    \n",
    "    print('Accuracy: {}'.format(accuracy))\n",
    "    print('Balanced Accuracy: {}'.format(bal_accuracy))\n",
    "    \n",
    "    return accuracy,bal_accuracy"
   ]
  },
  {
   "cell_type": "code",
   "execution_count": 116,
   "id": "794d15e3",
   "metadata": {},
   "outputs": [],
   "source": [
    "# creating a model dictionary\n",
    "model_dict={'Random Forest':RandomForestClassifier(n_estimators=50,max_depth=5,n_jobs=-1,random_state=50),\n",
    "           'Logit': LogisticRegression(random_state=50),\n",
    "           'AdaBoost':AdaBoostClassifier(n_estimators=50,random_state=50),\n",
    "           'balanced RF':BalancedRandomForestClassifier(n_estimators=50, max_depth=5,n_jobs=-1,\n",
    "                                                        random_state=50,sampling_strategy='auto'),\n",
    "           'balanced_logit':BalancedBaggingClassifier(base_estimator=LogisticRegression(),n_estimators=50,\n",
    "                                                     n_jobs=-1,random_state=50),\n",
    "           'Undersampled Boost':RUSBoostClassifier(base_estimator=None, #None means Decision Stump\n",
    "                                             n_estimators=50,sampling_strategy='auto',\n",
    "                                             random_state=50)}"
   ]
  },
  {
   "cell_type": "code",
   "execution_count": 117,
   "id": "d3aff6a0",
   "metadata": {},
   "outputs": [
    {
     "name": "stdout",
     "output_type": "stream",
     "text": [
      "RandomForestClassifier(max_depth=5, n_estimators=50, n_jobs=-1, random_state=50)\n",
      "Accuracy: 0.8937450234451031\n",
      "Balanced Accuracy: 0.5877819622874164\n",
      "\n",
      "LogisticRegression(random_state=50)\n",
      "Accuracy: 0.8890560028311068\n",
      "Balanced Accuracy: 0.6528097991806779\n",
      "\n",
      "AdaBoostClassifier(random_state=50)\n",
      "Accuracy: 0.8945412722286119\n",
      "Balanced Accuracy: 0.6514552065575475\n",
      "\n",
      "BalancedRandomForestClassifier(max_depth=5, n_estimators=50, n_jobs=-1,\n",
      "                               random_state=50)\n",
      "Accuracy: 0.812173759178979\n",
      "Balanced Accuracy: 0.811257024219397\n",
      "\n",
      "BalancedBaggingClassifier(base_estimator=LogisticRegression(), n_estimators=50,\n",
      "                          n_jobs=-1, random_state=50)\n",
      "Accuracy: 0.8107582057860745\n",
      "Balanced Accuracy: 0.8047056420312947\n",
      "\n",
      "RUSBoostClassifier(random_state=50)\n",
      "Accuracy: 0.8193399982305583\n",
      "Balanced Accuracy: 0.8086221202093246\n",
      "\n"
     ]
    }
   ],
   "source": [
    "accuracy_dict={}\n",
    "balanced_accuracy_dict={}\n",
    "for model in model_dict.keys():\n",
    "    accuracy,balanced_accuracy=accuracy_BalancedAccuracy(model_dict[model],X_train,X_test,y_train,y_test)\n",
    "    \n",
    "    accuracy_dict[model]=accuracy\n",
    "    balanced_accuracy_dict[model]=balanced_accuracy\n",
    "    print()"
   ]
  },
  {
   "cell_type": "code",
   "execution_count": 118,
   "id": "1c4fbcf2",
   "metadata": {},
   "outputs": [
    {
     "data": {
      "text/plain": [
       "{'Random Forest': 0.8937450234451031,\n",
       " 'Logit': 0.8890560028311068,\n",
       " 'AdaBoost': 0.8945412722286119,\n",
       " 'balanced RF': 0.812173759178979,\n",
       " 'balanced_logit': 0.8107582057860745,\n",
       " 'Undersampled Boost': 0.8193399982305583}"
      ]
     },
     "execution_count": 118,
     "metadata": {},
     "output_type": "execute_result"
    }
   ],
   "source": [
    "accuracy_dict"
   ]
  },
  {
   "cell_type": "code",
   "execution_count": 119,
   "id": "3b3fa69e",
   "metadata": {},
   "outputs": [
    {
     "data": {
      "text/plain": [
       "{'Random Forest': 0.5877819622874164,\n",
       " 'Logit': 0.6528097991806779,\n",
       " 'AdaBoost': 0.6514552065575475,\n",
       " 'balanced RF': 0.811257024219397,\n",
       " 'balanced_logit': 0.8047056420312947,\n",
       " 'Undersampled Boost': 0.8086221202093246}"
      ]
     },
     "execution_count": 119,
     "metadata": {},
     "output_type": "execute_result"
    }
   ],
   "source": [
    "balanced_accuracy_dict"
   ]
  },
  {
   "cell_type": "code",
   "execution_count": 120,
   "id": "691a88d7",
   "metadata": {},
   "outputs": [],
   "source": [
    "accuracy_ser=pd.Series(accuracy_dict)\n",
    "balanced_accuracy_ser=pd.Series(balanced_accuracy_dict)"
   ]
  },
  {
   "cell_type": "code",
   "execution_count": 121,
   "id": "70769b0f",
   "metadata": {},
   "outputs": [
    {
     "name": "stdout",
     "output_type": "stream",
     "text": [
      "Random Forest         0.893745\n",
      "Logit                 0.889056\n",
      "AdaBoost              0.894541\n",
      "balanced RF           0.812174\n",
      "balanced_logit        0.810758\n",
      "Undersampled Boost    0.819340\n",
      "dtype: float64\n",
      "\n",
      "Random Forest         0.587782\n",
      "Logit                 0.652810\n",
      "AdaBoost              0.651455\n",
      "balanced RF           0.811257\n",
      "balanced_logit        0.804706\n",
      "Undersampled Boost    0.808622\n",
      "dtype: float64\n"
     ]
    }
   ],
   "source": [
    "print(accuracy_ser)\n",
    "print()\n",
    "print(balanced_accuracy_ser)"
   ]
  },
  {
   "cell_type": "code",
   "execution_count": 122,
   "id": "1fc35261",
   "metadata": {},
   "outputs": [],
   "source": [
    "results_df=pd.concat([accuracy_ser,balanced_accuracy_ser],axis=1)"
   ]
  },
  {
   "cell_type": "code",
   "execution_count": 123,
   "id": "e5df2c5b",
   "metadata": {},
   "outputs": [],
   "source": [
    "results_df.rename(columns={0:'Accuracy',1:'Balanced_accuracy'},inplace=True)"
   ]
  },
  {
   "cell_type": "code",
   "execution_count": 124,
   "id": "833ffe1d",
   "metadata": {},
   "outputs": [
    {
     "data": {
      "text/html": [
       "<div>\n",
       "<style scoped>\n",
       "    .dataframe tbody tr th:only-of-type {\n",
       "        vertical-align: middle;\n",
       "    }\n",
       "\n",
       "    .dataframe tbody tr th {\n",
       "        vertical-align: top;\n",
       "    }\n",
       "\n",
       "    .dataframe thead th {\n",
       "        text-align: right;\n",
       "    }\n",
       "</style>\n",
       "<table border=\"1\" class=\"dataframe\">\n",
       "  <thead>\n",
       "    <tr style=\"text-align: right;\">\n",
       "      <th></th>\n",
       "      <th>Accuracy</th>\n",
       "      <th>Balanced_accuracy</th>\n",
       "    </tr>\n",
       "  </thead>\n",
       "  <tbody>\n",
       "    <tr>\n",
       "      <th>Random Forest</th>\n",
       "      <td>0.893745</td>\n",
       "      <td>0.587782</td>\n",
       "    </tr>\n",
       "    <tr>\n",
       "      <th>Logit</th>\n",
       "      <td>0.889056</td>\n",
       "      <td>0.652810</td>\n",
       "    </tr>\n",
       "    <tr>\n",
       "      <th>AdaBoost</th>\n",
       "      <td>0.894541</td>\n",
       "      <td>0.651455</td>\n",
       "    </tr>\n",
       "    <tr>\n",
       "      <th>balanced RF</th>\n",
       "      <td>0.812174</td>\n",
       "      <td>0.811257</td>\n",
       "    </tr>\n",
       "    <tr>\n",
       "      <th>balanced_logit</th>\n",
       "      <td>0.810758</td>\n",
       "      <td>0.804706</td>\n",
       "    </tr>\n",
       "    <tr>\n",
       "      <th>Undersampled Boost</th>\n",
       "      <td>0.819340</td>\n",
       "      <td>0.808622</td>\n",
       "    </tr>\n",
       "  </tbody>\n",
       "</table>\n",
       "</div>"
      ],
      "text/plain": [
       "                    Accuracy  Balanced_accuracy\n",
       "Random Forest       0.893745           0.587782\n",
       "Logit               0.889056           0.652810\n",
       "AdaBoost            0.894541           0.651455\n",
       "balanced RF         0.812174           0.811257\n",
       "balanced_logit      0.810758           0.804706\n",
       "Undersampled Boost  0.819340           0.808622"
      ]
     },
     "execution_count": 124,
     "metadata": {},
     "output_type": "execute_result"
    }
   ],
   "source": [
    "results_df"
   ]
  },
  {
   "cell_type": "code",
   "execution_count": 125,
   "id": "42cf43ef",
   "metadata": {},
   "outputs": [
    {
     "data": {
      "text/plain": [
       "Index(['Random Forest', 'Logit', 'AdaBoost', 'balanced RF', 'balanced_logit',\n",
       "       'Undersampled Boost'],\n",
       "      dtype='object')"
      ]
     },
     "execution_count": 125,
     "metadata": {},
     "output_type": "execute_result"
    }
   ],
   "source": [
    "results_df.index"
   ]
  },
  {
   "cell_type": "code",
   "execution_count": 126,
   "id": "e73a3ee0",
   "metadata": {},
   "outputs": [
    {
     "data": {
      "image/png": "[encoded data removed]",
      "text/plain": [
       "<Figure size 432x288 with 1 Axes>"
      ]
     },
     "metadata": {
      "needs_background": "light"
     },
     "output_type": "display_data"
    }
   ],
   "source": [
    "results_df.plot.bar(figsize=(6,4))\n",
    "plt.ylim([0.5,1])\n",
    "plt.title('Accuracy and balanced Accuracy of all models')\n",
    "plt.xticks(rotation=45)\n",
    "plt.show()"
   ]
  },
  {
   "cell_type": "markdown",
   "id": "6de6094a",
   "metadata": {},
   "source": [
    "So, we see that Accuracy is better for the vanill models: Logistic Regression, Random Forest and AdaBoost,  \n",
    "which is misleading for imbalanced classification evaluation.  "
   ]
  },
  {
   "cell_type": "markdown",
   "id": "f2e5e5da",
   "metadata": {},
   "source": [
    "Following are the imbalanced ensemble approaches:  \n",
    "    1) Balanced Random Forest (where each Decision Tree comprises of minority and bootstrapped majority).  \n",
    "    2) Balanced Bagging with Logistic Regression as estimator.  \n",
    "    3) Random Undersampled Boost(comprising of Decision stumps like AdaBoost but with random undersampling in each step)."
   ]
  },
  {
   "cell_type": "markdown",
   "id": "9ecc3a7e",
   "metadata": {},
   "source": [
    "Ensemble approaches will be better suited for our business problem because even though their overall accuracy is lower,   \n",
    "they do a better job at identifying the true positives (minority) as well as true negatives (majority) ."
   ]
  },
  {
   "cell_type": "markdown",
   "id": "2fc804b8",
   "metadata": {},
   "source": [
    "# SMOTE oversampling"
   ]
  },
  {
   "cell_type": "markdown",
   "id": "40e7e785",
   "metadata": {},
   "source": [
    " Lets try another approach by Oversampling instead of Undersampling by SMOTE (synthetic Minority Oversampling)"
   ]
  },
  {
   "cell_type": "code",
   "execution_count": 127,
   "id": "ca2c2607",
   "metadata": {},
   "outputs": [],
   "source": [
    "from imblearn.over_sampling import SMOTE"
   ]
  },
  {
   "cell_type": "code",
   "execution_count": 128,
   "id": "cf33e050",
   "metadata": {},
   "outputs": [],
   "source": [
    "from sklearn.preprocessing import MinMaxScaler"
   ]
  },
  {
   "cell_type": "code",
   "execution_count": 129,
   "id": "b26e9691",
   "metadata": {},
   "outputs": [
    {
     "data": {
      "text/html": [
       "<div>\n",
       "<style scoped>\n",
       "    .dataframe tbody tr th:only-of-type {\n",
       "        vertical-align: middle;\n",
       "    }\n",
       "\n",
       "    .dataframe tbody tr th {\n",
       "        vertical-align: top;\n",
       "    }\n",
       "\n",
       "    .dataframe thead th {\n",
       "        text-align: right;\n",
       "    }\n",
       "</style>\n",
       "<table border=\"1\" class=\"dataframe\">\n",
       "  <thead>\n",
       "    <tr style=\"text-align: right;\">\n",
       "      <th></th>\n",
       "      <th>age</th>\n",
       "      <th>balance</th>\n",
       "      <th>duration</th>\n",
       "      <th>campaign</th>\n",
       "      <th>housing_yes</th>\n",
       "      <th>contact_cellular</th>\n",
       "      <th>poutcome_success</th>\n",
       "      <th>week_Week2</th>\n",
       "      <th>week_Week3</th>\n",
       "      <th>week_Week4</th>\n",
       "      <th>call_dur_3-10min</th>\n",
       "      <th>call_dur_&gt;10 min</th>\n",
       "      <th>new_contact_old_cust</th>\n",
       "    </tr>\n",
       "  </thead>\n",
       "  <tbody>\n",
       "    <tr>\n",
       "      <th>26915</th>\n",
       "      <td>53.0</td>\n",
       "      <td>0.0</td>\n",
       "      <td>4.433333</td>\n",
       "      <td>6.0</td>\n",
       "      <td>1</td>\n",
       "      <td>1</td>\n",
       "      <td>0</td>\n",
       "      <td>0</td>\n",
       "      <td>1</td>\n",
       "      <td>0</td>\n",
       "      <td>1</td>\n",
       "      <td>0</td>\n",
       "      <td>0</td>\n",
       "    </tr>\n",
       "    <tr>\n",
       "      <th>37046</th>\n",
       "      <td>31.0</td>\n",
       "      <td>1545.0</td>\n",
       "      <td>3.450000</td>\n",
       "      <td>1.0</td>\n",
       "      <td>1</td>\n",
       "      <td>1</td>\n",
       "      <td>0</td>\n",
       "      <td>1</td>\n",
       "      <td>0</td>\n",
       "      <td>0</td>\n",
       "      <td>1</td>\n",
       "      <td>0</td>\n",
       "      <td>0</td>\n",
       "    </tr>\n",
       "    <tr>\n",
       "      <th>13763</th>\n",
       "      <td>31.0</td>\n",
       "      <td>12.0</td>\n",
       "      <td>1.350000</td>\n",
       "      <td>3.0</td>\n",
       "      <td>1</td>\n",
       "      <td>1</td>\n",
       "      <td>0</td>\n",
       "      <td>1</td>\n",
       "      <td>0</td>\n",
       "      <td>0</td>\n",
       "      <td>0</td>\n",
       "      <td>0</td>\n",
       "      <td>0</td>\n",
       "    </tr>\n",
       "  </tbody>\n",
       "</table>\n",
       "</div>"
      ],
      "text/plain": [
       "        age  balance  duration  campaign  housing_yes  contact_cellular  \\\n",
       "26915  53.0      0.0  4.433333       6.0            1                 1   \n",
       "37046  31.0   1545.0  3.450000       1.0            1                 1   \n",
       "13763  31.0     12.0  1.350000       3.0            1                 1   \n",
       "\n",
       "       poutcome_success  week_Week2  week_Week3  week_Week4  call_dur_3-10min  \\\n",
       "26915                 0           0           1           0                 1   \n",
       "37046                 0           1           0           0                 1   \n",
       "13763                 0           1           0           0                 0   \n",
       "\n",
       "       call_dur_>10 min  new_contact_old_cust  \n",
       "26915                 0                     0  \n",
       "37046                 0                     0  \n",
       "13763                 0                     0  "
      ]
     },
     "execution_count": 129,
     "metadata": {},
     "output_type": "execute_result"
    }
   ],
   "source": [
    "X_train.sample(3)"
   ]
  },
  {
   "cell_type": "code",
   "execution_count": 130,
   "id": "4d0c2816",
   "metadata": {},
   "outputs": [],
   "source": [
    "# For SMOTE since data is created syntheticall using nearest neighbor method, we need to rescale \n",
    "scaler=MinMaxScaler().fit(X_train)\n",
    "x_train_scaled=scaler.transform(X_train)\n",
    "x_test_scaled=scaler.transform(X_test)"
   ]
  },
  {
   "cell_type": "code",
   "execution_count": 131,
   "id": "4342413b",
   "metadata": {},
   "outputs": [],
   "source": [
    "sampler=SMOTE(sampling_strategy='auto',k_neighbors=5,n_jobs=-1)"
   ]
  },
  {
   "cell_type": "code",
   "execution_count": 132,
   "id": "ae5e93d4",
   "metadata": {},
   "outputs": [],
   "source": [
    "# Resample only the train set not the test set\n",
    "X_resampled,y_resampled=sampler.fit_resample(x_train_scaled,y_train)"
   ]
  },
  {
   "cell_type": "code",
   "execution_count": 133,
   "id": "8966d61f",
   "metadata": {},
   "outputs": [
    {
     "name": "stdout",
     "output_type": "stream",
     "text": [
      "RandomForestClassifier()\n",
      "Accuracy: 0.8590639653189419\n",
      "Balanced Accuracy: 0.7452938008594339\n"
     ]
    }
   ],
   "source": [
    "smote_acc,smote_bal_acc=accuracy_BalancedAccuracy(RandomForestClassifier(),X_resampled,x_test_scaled,y_resampled,y_test)"
   ]
  },
  {
   "cell_type": "markdown",
   "id": "3eb0190f",
   "metadata": {},
   "source": [
    "So, we see that SMOTE oversampled Random Forest performs worser than Ensemble Undersampled models, but better than the vailla models without resampling."
   ]
  },
  {
   "cell_type": "code",
   "execution_count": null,
   "id": "301c11ae",
   "metadata": {},
   "outputs": [],
   "source": []
  }
 ],
 "metadata": {
  "kernelspec": {
   "display_name": "Python 3 (ipykernel)",
   "language": "python",
   "name": "python3"
  },
  "language_info": {
   "codemirror_mode": {
    "name": "ipython",
    "version": 3
   },
   "file_extension": ".py",
   "mimetype": "text/x-python",
   "name": "python",
   "nbconvert_exporter": "python",
   "pygments_lexer": "ipython3",
   "version": "3.7.13"
  }
 },
 "nbformat": 4,
 "nbformat_minor": 5
}
